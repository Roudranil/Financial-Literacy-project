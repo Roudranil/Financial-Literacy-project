{
 "cells": [
  {
   "cell_type": "code",
   "execution_count": 62,
   "metadata": {},
   "outputs": [],
   "source": [
    "import numpy as np\n",
    "import pandas as pd\n",
    "\n",
    "import scipy\n",
    "import statsmodels\n",
    "\n",
    "import matplotlib.pyplot as plt\n",
    "import seaborn as sns"
   ]
  },
  {
   "cell_type": "code",
   "execution_count": 63,
   "metadata": {},
   "outputs": [],
   "source": [
    "plt.rcParams['figure.figsize'] = 10,8"
   ]
  },
  {
   "cell_type": "code",
   "execution_count": 64,
   "metadata": {},
   "outputs": [],
   "source": [
    "data = pd.read_csv(\"dataset_with_score.csv\")"
   ]
  },
  {
   "cell_type": "code",
   "execution_count": 65,
   "metadata": {},
   "outputs": [
    {
     "data": {
      "text/plain": [
       "(203, 32)"
      ]
     },
     "execution_count": 65,
     "metadata": {},
     "output_type": "execute_result"
    }
   ],
   "source": [
    "data.shape"
   ]
  },
  {
   "cell_type": "code",
   "execution_count": 66,
   "metadata": {},
   "outputs": [],
   "source": [
    "oldName_to_newName = {\n",
    "    'id': 'id',\n",
    "    'Where do you live? (name of village/town/city)': 'P1',\n",
    "    'Do you live in a rural or urban area?': 'P2',\n",
    "    'Sex': 'P3',\n",
    "    'Age': 'P4',\n",
    "    'Your medium of schooling': 'P5',\n",
    "    'Your highest educational qualification': 'P6',\n",
    "    'Your monthly household income (in INR)': 'P7',\n",
    "    'Who do you live with in your residence (i.e., where you currently reside)? ': 'P8',\n",
    "    \"Your father's highest educational qualification\": 'P9',\n",
    "    \"Your mother's highest educational qualification\": 'P10',\n",
    "    'Who is responsible for making day-to-day decisions about money in your household?': 'F1',\n",
    "    'Do you prepare a budget to keep track of necessary expenses and savings?': 'F2',\n",
    "    'How do you keep track of your monthly expenses?': 'F3',\n",
    "    'In the past 12 months have you been personally saving money in any of the following ways?': 'F4',\n",
    "    'What percentage of your total monthly income (or allowance) do you keep aside for active savings?': 'F5',\n",
    "    'What do you usually do to grow the money that you manage to save each month?': 'F6',\n",
    "    'If you lost your main source of income today, how long would you be able to continue your current living expenses without borrowing money or moving house?': 'F7',\n",
    "    'In the last 12 months have you done the following?': 'S1',\n",
    "    'For an online payment that has to be made by card, which one would you opt for generally?': 'A1',\n",
    "    'You are looking to buy new headphones online and you have 2 choices, out of which you need to choose one. The first set of headphones are priced at ₹700, while the other set is marked at ₹1,000 with a 30% discount. Both the sets are similar in terms of quality, performance, and durability.': 'A2',\n",
    "    'From the list given below, identify items that are classified as assets:': 'K1',\n",
    "    \"Suppose you buy a piece of land for  ₹5 lakhs. After 10 years, you sell this land for ₹7 lakhs. How much would your profit be after selling the land? (Assume you don't have to pay any kind of taxes)\": 'K2',\n",
    "    'You have borrowed ₹100 from a friend. Which would be the lower amount to pay back: ₹105 or ₹100 plus 3%?': 'K3',\n",
    "    'Assume that the income tax rate for an annual income between ₹1 lakh and ₹2 lakhs is 5% and for an annual income between ₹2 lakhs and ₹4 lakhs, the income tax rate is 10%. If your annual income is ₹3 lakhs, your income tax would be:': 'K4',\n",
    "    'You want to buy a phone worth ₹25,000 and you decide to save ₹5,000 each month. In your third month of savings period (which would be of 5 months), a relative gifts you ₹4,000 in form of cash. What would you most likely do with this money?' : 'K5',\n",
    "    'Just when you were about to reach your target of saving ₹25,000 for your new phone, you hear about another new, different model worth ₹22,000 and see a huge number of people booking it, along with good recommendations from a lot of well known experts and analysts.': 'K6',\n",
    "    \"You have ₹200 to spend on lunch and you're hungry. You buy some food items worth ₹180 and you feel full again after eating. You are now left with ₹20 of your lunch budget. What are you most likely to do?\": 'K7',\n",
    "    'Which one of the following investments do you consider as safer: putting your entire money in one business/investment, or putting your money into multiple businesses/investments?': 'K8',\n",
    "    \"You lend Rs. 25 to a friend and they return you Rs. 25 the next day. How much interest did they pay on this loan?\": 'K9',\n",
    "    \"Say someone puts Rs. 100 into a tax free, no fee savings account with guaranteed interest is 2% per year. What will be the amount in the account after 5 years?\": 'K10',\n",
    "    \"Suppose 5 brothers are given Rs. 1000 and asked to divide among themselves. However they have to wait for a year to get the money. If inflation stays at X%, then in 1 year will they be able to buy\": 'K11'\n",
    "}\n",
    "newName_to_oldName = {item[1]: item[0] for item in oldName_to_newName.items()}"
   ]
  },
  {
   "cell_type": "code",
   "execution_count": 67,
   "metadata": {},
   "outputs": [
    {
     "data": {
      "text/plain": [
       "<AxesSubplot:xlabel='TOTAL', ylabel='count'>"
      ]
     },
     "execution_count": 67,
     "metadata": {},
     "output_type": "execute_result"
    },
    {
     "data": {
      "image/png": "[encoded data removed]",
      "text/plain": [
       "<Figure size 720x576 with 1 Axes>"
      ]
     },
     "metadata": {
      "needs_background": "light"
     },
     "output_type": "display_data"
    }
   ],
   "source": [
    "sns.countplot(data=data, x='TOTAL')"
   ]
  },
  {
   "cell_type": "markdown",
   "metadata": {},
   "source": [
    "# Pivot tables"
   ]
  },
  {
   "cell_type": "markdown",
   "metadata": {},
   "source": [
    "1. age group vs literacy"
   ]
  },
  {
   "cell_type": "code",
   "execution_count": 68,
   "metadata": {},
   "outputs": [],
   "source": [
    "data['P11'] = pd.cut(data['P4'], bins=[18,21,24,27,30,33,36], include_lowest=True, right=False)"
   ]
  },
  {
   "cell_type": "code",
   "execution_count": 75,
   "metadata": {},
   "outputs": [
    {
     "data": {
      "text/html": [
       "<div>\n",
       "<style scoped>\n",
       "    .dataframe tbody tr th:only-of-type {\n",
       "        vertical-align: middle;\n",
       "    }\n",
       "\n",
       "    .dataframe tbody tr th {\n",
       "        vertical-align: top;\n",
       "    }\n",
       "\n",
       "    .dataframe thead th {\n",
       "        text-align: right;\n",
       "    }\n",
       "</style>\n",
       "<table border=\"1\" class=\"dataframe\">\n",
       "  <thead>\n",
       "    <tr style=\"text-align: right;\">\n",
       "      <th></th>\n",
       "      <th>2</th>\n",
       "      <th>3</th>\n",
       "      <th>4</th>\n",
       "      <th>5</th>\n",
       "      <th>6</th>\n",
       "      <th>7</th>\n",
       "      <th>8</th>\n",
       "      <th>9</th>\n",
       "      <th>10</th>\n",
       "      <th>11</th>\n",
       "      <th>12</th>\n",
       "      <th>13</th>\n",
       "    </tr>\n",
       "  </thead>\n",
       "  <tbody>\n",
       "    <tr>\n",
       "      <th>[18, 21)</th>\n",
       "      <td>1</td>\n",
       "      <td>1</td>\n",
       "      <td>2</td>\n",
       "      <td>9</td>\n",
       "      <td>4</td>\n",
       "      <td>6</td>\n",
       "      <td>9</td>\n",
       "      <td>7</td>\n",
       "      <td>8</td>\n",
       "      <td>4</td>\n",
       "      <td>3</td>\n",
       "      <td>1</td>\n",
       "    </tr>\n",
       "    <tr>\n",
       "      <th>[21, 24)</th>\n",
       "      <td>0</td>\n",
       "      <td>4</td>\n",
       "      <td>4</td>\n",
       "      <td>3</td>\n",
       "      <td>13</td>\n",
       "      <td>11</td>\n",
       "      <td>16</td>\n",
       "      <td>24</td>\n",
       "      <td>23</td>\n",
       "      <td>19</td>\n",
       "      <td>11</td>\n",
       "      <td>2</td>\n",
       "    </tr>\n",
       "    <tr>\n",
       "      <th>[24, 27)</th>\n",
       "      <td>0</td>\n",
       "      <td>0</td>\n",
       "      <td>0</td>\n",
       "      <td>1</td>\n",
       "      <td>2</td>\n",
       "      <td>0</td>\n",
       "      <td>0</td>\n",
       "      <td>1</td>\n",
       "      <td>1</td>\n",
       "      <td>1</td>\n",
       "      <td>0</td>\n",
       "      <td>1</td>\n",
       "    </tr>\n",
       "    <tr>\n",
       "      <th>[27, 30)</th>\n",
       "      <td>0</td>\n",
       "      <td>0</td>\n",
       "      <td>0</td>\n",
       "      <td>0</td>\n",
       "      <td>0</td>\n",
       "      <td>0</td>\n",
       "      <td>0</td>\n",
       "      <td>2</td>\n",
       "      <td>2</td>\n",
       "      <td>0</td>\n",
       "      <td>0</td>\n",
       "      <td>0</td>\n",
       "    </tr>\n",
       "    <tr>\n",
       "      <th>[30, 33)</th>\n",
       "      <td>0</td>\n",
       "      <td>0</td>\n",
       "      <td>1</td>\n",
       "      <td>0</td>\n",
       "      <td>0</td>\n",
       "      <td>0</td>\n",
       "      <td>0</td>\n",
       "      <td>0</td>\n",
       "      <td>0</td>\n",
       "      <td>0</td>\n",
       "      <td>0</td>\n",
       "      <td>0</td>\n",
       "    </tr>\n",
       "    <tr>\n",
       "      <th>[33, 36)</th>\n",
       "      <td>0</td>\n",
       "      <td>1</td>\n",
       "      <td>0</td>\n",
       "      <td>1</td>\n",
       "      <td>0</td>\n",
       "      <td>0</td>\n",
       "      <td>1</td>\n",
       "      <td>0</td>\n",
       "      <td>1</td>\n",
       "      <td>1</td>\n",
       "      <td>0</td>\n",
       "      <td>1</td>\n",
       "    </tr>\n",
       "  </tbody>\n",
       "</table>\n",
       "</div>"
      ],
      "text/plain": [
       "          2  3  4  5   6   7   8   9  10  11  12  13\n",
       "[18, 21)  1  1  2  9   4   6   9   7   8   4   3   1\n",
       "[21, 24)  0  4  4  3  13  11  16  24  23  19  11   2\n",
       "[24, 27)  0  0  0  1   2   0   0   1   1   1   0   1\n",
       "[27, 30)  0  0  0  0   0   0   0   2   2   0   0   0\n",
       "[30, 33)  0  0  1  0   0   0   0   0   0   0   0   0\n",
       "[33, 36)  0  1  0  1   0   0   1   0   1   1   0   1"
      ]
     },
     "execution_count": 75,
     "metadata": {},
     "output_type": "execute_result"
    }
   ],
   "source": [
    "agegrp_literacy = pd.pivot_table(data, columns='TOTAL', index='P11', aggfunc='count').iloc[:,:12]\n",
    "agegrp_literacy.index = [\"[18, 21)\",\"[21, 24)\",\"[24, 27)\",\"[27, 30)\",\"[30, 33)\",\"[33, 36)\"]\n",
    "agegrp_literacy.columns = [f\"{i}\" for i in range(2,14)]\n",
    "agegrp_literacy"
   ]
  },
  {
   "cell_type": "markdown",
   "metadata": {},
   "source": [
    "2. proportion of age groups:"
   ]
  },
  {
   "cell_type": "code",
   "execution_count": 70,
   "metadata": {},
   "outputs": [
    {
     "data": {
      "text/plain": [
       "[21, 24)    130\n",
       "[18, 21)     55\n",
       "[24, 27)      7\n",
       "[33, 36)      6\n",
       "[27, 30)      4\n",
       "[30, 33)      1\n",
       "Name: P11, dtype: int64"
      ]
     },
     "execution_count": 70,
     "metadata": {},
     "output_type": "execute_result"
    }
   ],
   "source": [
    "data['P11'].value_counts()"
   ]
  },
  {
   "cell_type": "code",
   "execution_count": 71,
   "metadata": {},
   "outputs": [],
   "source": [
    "agegrp_prop = pd.DataFrame(data['P11'].value_counts())\n",
    "agegrp_prop.columns = ['P12']\n",
    "agegrp_prop['P12'] = agegrp_prop['P12']/203\n",
    "agegrp_prop['P11'] = agegrp_prop.index\n",
    "agegrp_prop.index = list(range(6))"
   ]
  },
  {
   "cell_type": "code",
   "execution_count": 72,
   "metadata": {},
   "outputs": [
    {
     "data": {
      "text/html": [
       "<div>\n",
       "<style scoped>\n",
       "    .dataframe tbody tr th:only-of-type {\n",
       "        vertical-align: middle;\n",
       "    }\n",
       "\n",
       "    .dataframe tbody tr th {\n",
       "        vertical-align: top;\n",
       "    }\n",
       "\n",
       "    .dataframe thead th {\n",
       "        text-align: right;\n",
       "    }\n",
       "</style>\n",
       "<table border=\"1\" class=\"dataframe\">\n",
       "  <thead>\n",
       "    <tr style=\"text-align: right;\">\n",
       "      <th></th>\n",
       "      <th>P12</th>\n",
       "      <th>P11</th>\n",
       "    </tr>\n",
       "  </thead>\n",
       "  <tbody>\n",
       "    <tr>\n",
       "      <th>0</th>\n",
       "      <td>0.640394</td>\n",
       "      <td>[21, 24)</td>\n",
       "    </tr>\n",
       "    <tr>\n",
       "      <th>1</th>\n",
       "      <td>0.270936</td>\n",
       "      <td>[18, 21)</td>\n",
       "    </tr>\n",
       "    <tr>\n",
       "      <th>2</th>\n",
       "      <td>0.034483</td>\n",
       "      <td>[24, 27)</td>\n",
       "    </tr>\n",
       "    <tr>\n",
       "      <th>3</th>\n",
       "      <td>0.029557</td>\n",
       "      <td>[33, 36)</td>\n",
       "    </tr>\n",
       "    <tr>\n",
       "      <th>4</th>\n",
       "      <td>0.019704</td>\n",
       "      <td>[27, 30)</td>\n",
       "    </tr>\n",
       "    <tr>\n",
       "      <th>5</th>\n",
       "      <td>0.004926</td>\n",
       "      <td>[30, 33)</td>\n",
       "    </tr>\n",
       "  </tbody>\n",
       "</table>\n",
       "</div>"
      ],
      "text/plain": [
       "        P12       P11\n",
       "0  0.640394  [21, 24)\n",
       "1  0.270936  [18, 21)\n",
       "2  0.034483  [24, 27)\n",
       "3  0.029557  [33, 36)\n",
       "4  0.019704  [27, 30)\n",
       "5  0.004926  [30, 33)"
      ]
     },
     "execution_count": 72,
     "metadata": {},
     "output_type": "execute_result"
    }
   ],
   "source": [
    "agegrp_prop"
   ]
  },
  {
   "cell_type": "code",
   "execution_count": 73,
   "metadata": {},
   "outputs": [
    {
     "data": {
      "text/html": [
       "<div>\n",
       "<style scoped>\n",
       "    .dataframe tbody tr th:only-of-type {\n",
       "        vertical-align: middle;\n",
       "    }\n",
       "\n",
       "    .dataframe tbody tr th {\n",
       "        vertical-align: top;\n",
       "    }\n",
       "\n",
       "    .dataframe thead th {\n",
       "        text-align: right;\n",
       "    }\n",
       "</style>\n",
       "<table border=\"1\" class=\"dataframe\">\n",
       "  <thead>\n",
       "    <tr style=\"text-align: right;\">\n",
       "      <th></th>\n",
       "      <th>id</th>\n",
       "      <th>P2</th>\n",
       "      <th>P3</th>\n",
       "      <th>P4</th>\n",
       "      <th>P5</th>\n",
       "      <th>P6</th>\n",
       "      <th>P7</th>\n",
       "      <th>P8</th>\n",
       "      <th>P9</th>\n",
       "      <th>P10</th>\n",
       "      <th>...</th>\n",
       "      <th>K5</th>\n",
       "      <th>K6</th>\n",
       "      <th>K7</th>\n",
       "      <th>K8</th>\n",
       "      <th>K9</th>\n",
       "      <th>K10</th>\n",
       "      <th>K11</th>\n",
       "      <th>TOTAL</th>\n",
       "      <th>P11</th>\n",
       "      <th>P12</th>\n",
       "    </tr>\n",
       "  </thead>\n",
       "  <tbody>\n",
       "    <tr>\n",
       "      <th>0</th>\n",
       "      <td>0</td>\n",
       "      <td>Urban</td>\n",
       "      <td>Female</td>\n",
       "      <td>22</td>\n",
       "      <td>Bengali</td>\n",
       "      <td>Graduate</td>\n",
       "      <td>&gt; 60,000</td>\n",
       "      <td>With friends. colleagues or students</td>\n",
       "      <td>Graduate</td>\n",
       "      <td>Postgraduate</td>\n",
       "      <td>...</td>\n",
       "      <td>save it</td>\n",
       "      <td>cheaper model</td>\n",
       "      <td>buy beverage</td>\n",
       "      <td>Multiple businesses/investment</td>\n",
       "      <td>No interest</td>\n",
       "      <td>less than 110</td>\n",
       "      <td>not sure</td>\n",
       "      <td>7</td>\n",
       "      <td>[21, 24)</td>\n",
       "      <td>0.640394</td>\n",
       "    </tr>\n",
       "    <tr>\n",
       "      <th>1</th>\n",
       "      <td>1</td>\n",
       "      <td>Urban</td>\n",
       "      <td>Male</td>\n",
       "      <td>22</td>\n",
       "      <td>Bengali</td>\n",
       "      <td>Graduate</td>\n",
       "      <td>&lt; 20,000</td>\n",
       "      <td>With friends. colleagues or students</td>\n",
       "      <td>Graduate</td>\n",
       "      <td>Graduate</td>\n",
       "      <td>...</td>\n",
       "      <td>save it</td>\n",
       "      <td>cheaper model</td>\n",
       "      <td>buy beverage</td>\n",
       "      <td>Not sure</td>\n",
       "      <td>Not sure</td>\n",
       "      <td>not sure</td>\n",
       "      <td>not sure</td>\n",
       "      <td>3</td>\n",
       "      <td>[21, 24)</td>\n",
       "      <td>0.640394</td>\n",
       "    </tr>\n",
       "    <tr>\n",
       "      <th>2</th>\n",
       "      <td>2</td>\n",
       "      <td>Urban</td>\n",
       "      <td>Male</td>\n",
       "      <td>21</td>\n",
       "      <td>English</td>\n",
       "      <td>Graduate</td>\n",
       "      <td>&gt; 60,000</td>\n",
       "      <td>With children under the age of 18, With other ...</td>\n",
       "      <td>12th pass</td>\n",
       "      <td>12th pass</td>\n",
       "      <td>...</td>\n",
       "      <td>save it</td>\n",
       "      <td>expensive model</td>\n",
       "      <td>keep it</td>\n",
       "      <td>Multiple businesses/investment</td>\n",
       "      <td>Not sure</td>\n",
       "      <td>not sure</td>\n",
       "      <td>not sure</td>\n",
       "      <td>6</td>\n",
       "      <td>[21, 24)</td>\n",
       "      <td>0.640394</td>\n",
       "    </tr>\n",
       "    <tr>\n",
       "      <th>3</th>\n",
       "      <td>3</td>\n",
       "      <td>Urban</td>\n",
       "      <td>Female</td>\n",
       "      <td>23</td>\n",
       "      <td>English</td>\n",
       "      <td>Graduate</td>\n",
       "      <td>&gt; 60,000</td>\n",
       "      <td>With other adult relatives</td>\n",
       "      <td>Postgraduate</td>\n",
       "      <td>Graduate</td>\n",
       "      <td>...</td>\n",
       "      <td>save it</td>\n",
       "      <td>cheaper model</td>\n",
       "      <td>buy beverage</td>\n",
       "      <td>Multiple businesses/investment</td>\n",
       "      <td>No interest</td>\n",
       "      <td>not sure</td>\n",
       "      <td>less than today</td>\n",
       "      <td>8</td>\n",
       "      <td>[21, 24)</td>\n",
       "      <td>0.640394</td>\n",
       "    </tr>\n",
       "    <tr>\n",
       "      <th>4</th>\n",
       "      <td>4</td>\n",
       "      <td>Rural</td>\n",
       "      <td>Male</td>\n",
       "      <td>21</td>\n",
       "      <td>Bengali</td>\n",
       "      <td>Graduate</td>\n",
       "      <td>20,000 - 40,000</td>\n",
       "      <td>Alone</td>\n",
       "      <td>10th pass or less</td>\n",
       "      <td>Graduate</td>\n",
       "      <td>...</td>\n",
       "      <td>save it</td>\n",
       "      <td>cheaper model</td>\n",
       "      <td>keep it</td>\n",
       "      <td>Multiple businesses/investment</td>\n",
       "      <td>No interest</td>\n",
       "      <td>more than 110</td>\n",
       "      <td>same as today</td>\n",
       "      <td>10</td>\n",
       "      <td>[21, 24)</td>\n",
       "      <td>0.640394</td>\n",
       "    </tr>\n",
       "  </tbody>\n",
       "</table>\n",
       "<p>5 rows × 34 columns</p>\n",
       "</div>"
      ],
      "text/plain": [
       "   id     P2      P3  P4       P5        P6               P7  \\\n",
       "0   0  Urban  Female  22  Bengali  Graduate         > 60,000   \n",
       "1   1  Urban    Male  22  Bengali  Graduate         < 20,000   \n",
       "2   2  Urban    Male  21  English  Graduate         > 60,000   \n",
       "3   3  Urban  Female  23  English  Graduate         > 60,000   \n",
       "4   4  Rural    Male  21  Bengali  Graduate  20,000 - 40,000   \n",
       "\n",
       "                                                  P8                 P9  \\\n",
       "0               With friends. colleagues or students           Graduate   \n",
       "1               With friends. colleagues or students           Graduate   \n",
       "2  With children under the age of 18, With other ...          12th pass   \n",
       "3                         With other adult relatives       Postgraduate   \n",
       "4                                              Alone  10th pass or less   \n",
       "\n",
       "            P10  ...       K5               K6            K7  \\\n",
       "0  Postgraduate  ...  save it    cheaper model  buy beverage   \n",
       "1      Graduate  ...  save it    cheaper model  buy beverage   \n",
       "2     12th pass  ...  save it  expensive model       keep it   \n",
       "3      Graduate  ...  save it    cheaper model  buy beverage   \n",
       "4      Graduate  ...  save it    cheaper model       keep it   \n",
       "\n",
       "                               K8           K9            K10  \\\n",
       "0  Multiple businesses/investment  No interest  less than 110   \n",
       "1                        Not sure     Not sure       not sure   \n",
       "2  Multiple businesses/investment     Not sure       not sure   \n",
       "3  Multiple businesses/investment  No interest       not sure   \n",
       "4  Multiple businesses/investment  No interest  more than 110   \n",
       "\n",
       "               K11 TOTAL       P11       P12  \n",
       "0         not sure     7  [21, 24)  0.640394  \n",
       "1         not sure     3  [21, 24)  0.640394  \n",
       "2         not sure     6  [21, 24)  0.640394  \n",
       "3  less than today     8  [21, 24)  0.640394  \n",
       "4    same as today    10  [21, 24)  0.640394  \n",
       "\n",
       "[5 rows x 34 columns]"
      ]
     },
     "execution_count": 73,
     "metadata": {},
     "output_type": "execute_result"
    }
   ],
   "source": [
    "pd.merge(left=data, right=agegrp_prop, how='left', on='P11').head()"
   ]
  },
  {
   "cell_type": "code",
   "execution_count": null,
   "metadata": {},
   "outputs": [],
   "source": []
  }
 ],
 "metadata": {
  "kernelspec": {
   "display_name": "Python 3.10.6 64-bit",
   "language": "python",
   "name": "python3"
  },
  "language_info": {
   "codemirror_mode": {
    "name": "ipython",
    "version": 3
   },
   "file_extension": ".py",
   "mimetype": "text/x-python",
   "name": "python",
   "nbconvert_exporter": "python",
   "pygments_lexer": "ipython3",
   "version": "3.10.6"
  },
  "orig_nbformat": 4,
  "vscode": {
   "interpreter": {
    "hash": "d25902f113cb4dbd517154651829d71a667e371374905448337c195d86b0b7cb"
   }
  }
 },
 "nbformat": 4,
 "nbformat_minor": 2
}
