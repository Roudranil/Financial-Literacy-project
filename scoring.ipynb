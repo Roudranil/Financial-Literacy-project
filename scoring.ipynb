{
 "cells": [
  {
   "cell_type": "code",
   "execution_count": 1,
   "metadata": {},
   "outputs": [],
   "source": [
    "import numpy as np\n",
    "import pandas as pd"
   ]
  },
  {
   "cell_type": "code",
   "execution_count": 25,
   "metadata": {},
   "outputs": [],
   "source": [
    "dataset = pd.read_csv(\"responses (55).csv\")"
   ]
  },
  {
   "cell_type": "code",
   "execution_count": 30,
   "metadata": {},
   "outputs": [],
   "source": [
    "data = dataset.copy()"
   ]
  },
  {
   "cell_type": "code",
   "execution_count": 31,
   "metadata": {},
   "outputs": [],
   "source": [
    "data.drop(columns=['Timestamp'], inplace=True)\n",
    "data.drop(index=[21, 129], inplace=True)\n",
    "data.loc[62, 'Sex'] = data.loc[136, 'Sex'] = 'Other'\n",
    "data['Where do you live? (name of village/town/city)'] = data['Where do you live? (name of village/town/city)'].apply(lambda x: x.strip().lower())\n",
    "data['What percentage of your total monthly income (or allowance) do you keep aside for active savings?'] = data['What percentage of your total monthly income (or allowance) do you keep aside for active savings?'].map(\n",
    "    {\n",
    "        'Do not have a stable monthly income': 'no income',\n",
    "        '10% - 50%': '10% - 50%',\n",
    "        '5% - 10%': '5% - 10%',\n",
    "        'Do not have a monthly income': 'no income',\n",
    "        '< 5%': '< 5%',\n",
    "        '> 50%': '> 50%'\n",
    "    }\n",
    ")"
   ]
  },
  {
   "cell_type": "code",
   "execution_count": 32,
   "metadata": {},
   "outputs": [],
   "source": [
    "column_rename = {\n",
    "    'Where do you live? (name of village/town/city)': 'P1',\n",
    "    'Do you live in a rural or urban area?': 'P2',\n",
    "    'Sex': 'P3',\n",
    "    'Age': 'P4',\n",
    "    'Your medium of schooling': 'P5',\n",
    "    'Your highest educational qualification': 'P6',\n",
    "    'Your monthly household income (in INR)': 'P7',\n",
    "    'Who do you live with in your residence (i.e., where you currently reside)? ': 'P8',\n",
    "    \"Your father's highest educational qualification\": 'P9',\n",
    "    \"Your mother's highest educational qualification\": 'P10',\n",
    "    'Who is responsible for making day-to-day decisions about money in your household?': 'F1',\n",
    "    'Do you prepare a budget to keep track of necessary expenses and savings?': 'F2',\n",
    "    'How do you keep track of your monthly expenses?': 'F3',\n",
    "    'In the past 12 months have you been personally saving money in any of the following ways?': 'F4',\n",
    "    'What percentage of your total monthly income (or allowance) do you keep aside for active savings?': 'F5',\n",
    "    'What do you usually do to grow the money that you manage to save each month?': 'F6',\n",
    "    'If you lost your main source of income today, how long would you be able to continue your current living expenses without borrowing money or moving house?': 'F7',\n",
    "    'In the last 12 months have you done the following?': 'S1',\n",
    "    'For an online payment that has to be made by card, which one would you opt for generally?': 'A1',\n",
    "    'You are looking to buy new headphones online and you have 2 choices, out of which you need to choose one. The first set of headphones are priced at ₹700, while the other set is marked at ₹1,000 with a 30% discount. Both the sets are similar in terms of quality, performance, and durability.': 'A2',\n",
    "    'From the list given below, identify items that are classified as assets:': 'K1',\n",
    "    \"Suppose you buy a piece of land for  ₹5 lakhs. After 10 years, you sell this land for ₹7 lakhs. How much would your profit be after selling the land? (Assume you don't have to pay any kind of taxes)\": 'K2',\n",
    "    'You have borrowed ₹100 from a friend. Which would be the lower amount to pay back: ₹105 or ₹100 plus 3%?': 'K3',\n",
    "    'Assume that the income tax rate for an annual income between ₹1 lakh and ₹2 lakhs is 5% and for an annual income between ₹2 lakhs and ₹4 lakhs, the income tax rate is 10%. If your annual income is ₹3 lakhs, your income tax would be:': 'K4',\n",
    "    'You want to buy a phone worth ₹25,000 and you decide to save ₹5,000 each month. In your third month of savings period (which would be of 5 months), a relative gifts you ₹4,000 in form of cash. What would you most likely do with this money?' : 'K5',\n",
    "    'Just when you were about to reach your target of saving ₹25,000 for your new phone, you hear about another new, different model worth ₹22,000 and see a huge number of people booking it, along with good recommendations from a lot of well known experts and analysts.': 'K6',\n",
    "    \"You have ₹200 to spend on lunch and you're hungry. You buy some food items worth ₹180 and you feel full again after eating. You are now left with ₹20 of your lunch budget. What are you most likely to do?\": 'K7',\n",
    "    'Which one of the following investments do you consider as safer: putting your entire money in one business/investment, or putting your money into multiple businesses/investments?': 'K8',\n",
    "    \"You lend Rs. 25 to a friend and they return you Rs. 25 the next day. How much interest did they pay on this loan?\": 'K9',\n",
    "    \"Say someone puts Rs. 100 into a tax free, no fee savings account with guaranteed interest is 2% per year. What will be the amount in the account after 5 years?\": 'K10',\n",
    "    \"Suppose 5 brothers are given Rs. 1000 and asked to divide among themselves. However they have to wait for a year to get the money. If inflation stays at X%, then in 1 year will they be able to buy\": 'K11'\n",
    "}\n",
    "columns = [f\"F{i}\" for i in range(1,8)] + [\"S1\", \"A1\", \"A2\"] + [f\"K{i}\" for i in range(1,12)]\n",
    "data = data.rename(columns=column_rename)[columns]"
   ]
  },
  {
   "cell_type": "code",
   "execution_count": 33,
   "metadata": {},
   "outputs": [
    {
     "data": {
      "text/plain": [
       "passive    103\n",
       "ap          46\n",
       "active      36\n",
       "Name: F1, dtype: int64"
      ]
     },
     "execution_count": 33,
     "metadata": {},
     "output_type": "execute_result"
    }
   ],
   "source": [
    "data['F1'] = data['F1'].map({\n",
    "    'Someone else makes these decisions': 'passive',\n",
    "    'You make these decisions by yourself': 'active',\n",
    "    'You make these decisions with someone else': 'ap'\n",
    "})\n",
    "data['F1'].value_counts()"
   ]
  },
  {
   "cell_type": "code",
   "execution_count": 34,
   "metadata": {},
   "outputs": [
    {
     "data": {
      "text/plain": [
       "active     66\n",
       "passive    60\n",
       "ap         59\n",
       "Name: F2, dtype: int64"
      ]
     },
     "execution_count": 34,
     "metadata": {},
     "output_type": "execute_result"
    }
   ],
   "source": [
    "data['F2'] = data['F2'].map({\n",
    "    'Yes, I do so each month': 'active',\n",
    "    'Yes, but only sometimes': 'ap',\n",
    "    'No, I do not keep a written record of my expenses and savings': 'passive'\n",
    "})\n",
    "data['F2'].value_counts()"
   ]
  },
  {
   "cell_type": "code",
   "execution_count": 35,
   "metadata": {},
   "outputs": [],
   "source": [
    "scored_df = pd.DataFrame()"
   ]
  },
  {
   "cell_type": "code",
   "execution_count": 36,
   "metadata": {},
   "outputs": [
    {
     "data": {
      "text/html": [
       "<div>\n",
       "<style scoped>\n",
       "    .dataframe tbody tr th:only-of-type {\n",
       "        vertical-align: middle;\n",
       "    }\n",
       "\n",
       "    .dataframe tbody tr th {\n",
       "        vertical-align: top;\n",
       "    }\n",
       "\n",
       "    .dataframe thead th {\n",
       "        text-align: right;\n",
       "    }\n",
       "</style>\n",
       "<table border=\"1\" class=\"dataframe\">\n",
       "  <thead>\n",
       "    <tr style=\"text-align: right;\">\n",
       "      <th></th>\n",
       "    </tr>\n",
       "  </thead>\n",
       "  <tbody>\n",
       "  </tbody>\n",
       "</table>\n",
       "</div>"
      ],
      "text/plain": [
       "Empty DataFrame\n",
       "Columns: []\n",
       "Index: []"
      ]
     },
     "execution_count": 36,
     "metadata": {},
     "output_type": "execute_result"
    }
   ],
   "source": [
    "scored_df['F1'] = data['F1']\n",
    "scored_df['F2'] = data['F2']\n",
    "\n",
    "def score_f1(data, row):\n",
    "    if row['F1'] == 'active'"
   ]
  },
  {
   "cell_type": "code",
   "execution_count": null,
   "metadata": {},
   "outputs": [],
   "source": []
  }
 ],
 "metadata": {
  "kernelspec": {
   "display_name": "Python 3.10.6 64-bit",
   "language": "python",
   "name": "python3"
  },
  "language_info": {
   "codemirror_mode": {
    "name": "ipython",
    "version": 3
   },
   "file_extension": ".py",
   "mimetype": "text/x-python",
   "name": "python",
   "nbconvert_exporter": "python",
   "pygments_lexer": "ipython3",
   "version": "3.10.6"
  },
  "orig_nbformat": 4,
  "vscode": {
   "interpreter": {
    "hash": "d25902f113cb4dbd517154651829d71a667e371374905448337c195d86b0b7cb"
   }
  }
 },
 "nbformat": 4,
 "nbformat_minor": 2
}
