{
 "cells": [
  {
   "cell_type": "code",
   "execution_count": 20,
   "metadata": {},
   "outputs": [],
   "source": [
    "import numpy as np\n",
    "import pandas as pd"
   ]
  },
  {
   "cell_type": "code",
   "execution_count": 21,
   "metadata": {},
   "outputs": [],
   "source": [
    "dataset = pd.read_csv(\"responses (55).csv\")"
   ]
  },
  {
   "cell_type": "code",
   "execution_count": 22,
   "metadata": {},
   "outputs": [],
   "source": [
    "df = dataset"
   ]
  },
  {
   "cell_type": "code",
   "execution_count": 23,
   "metadata": {},
   "outputs": [],
   "source": [
    "df.drop(columns=['Timestamp'], inplace=True)\n",
    "df.drop(index=[21, 129], inplace=True)\n",
    "df.loc[62, 'Sex'] = df.loc[136, 'Sex'] = 'Other'\n",
    "df['Where do you live? (name of village/town/city)'] = df['Where do you live? (name of village/town/city)'].apply(lambda x: x.strip().lower())\n",
    "df['What percentage of your total monthly income (or allowance) do you keep aside for active savings?'] = df['What percentage of your total monthly income (or allowance) do you keep aside for active savings?'].map(\n",
    "    {\n",
    "        'Do not have a stable monthly income': 'no income',\n",
    "        '10% - 50%': '10% - 50%',\n",
    "        '5% - 10%': '5% - 10%',\n",
    "        'Do not have a monthly income': 'no income',\n",
    "        '< 5%': '< 5%',\n",
    "        '> 50%': '> 50%'\n",
    "    }\n",
    ")"
   ]
  },
  {
   "cell_type": "code",
   "execution_count": 50,
   "metadata": {},
   "outputs": [],
   "source": [
    "column_rename = {\n",
    "    'Where do you live? (name of village/town/city)': 'P1',\n",
    "    'Do you live in a rural or urban area?': 'P2',\n",
    "    'Sex': 'P3',\n",
    "    'Age': 'P4',\n",
    "    'Your medium of schooling': 'P5',\n",
    "    'Your highest educational qualification': 'P6',\n",
    "    'Your monthly household income (in INR)': 'P7',\n",
    "    'Who do you live with in your residence (i.e., where you currently reside)? ': 'P8',\n",
    "    \"Your father's highest educational qualification\": 'P9',\n",
    "    \"Your mother's highest educational qualification\": 'P10',\n",
    "    'Who is responsible for making day-to-day decisions about money in your household?': 'F1',\n",
    "    'Do you prepare a budget to keep track of necessary expenses and savings?': 'F2',\n",
    "    'How do you keep track of your monthly expenses?': 'F3',\n",
    "    'In the past 12 months have you been personally saving money in any of the following ways?': 'F4',\n",
    "    'What percentage of your total monthly income (or allowance) do you keep aside for active savings?': 'F5',\n",
    "    'What do you usually do to grow the money that you manage to save each month?': 'F6',\n",
    "    'If you lost your main source of income today, how long would you be able to continue your current living expenses without borrowing money or moving house?': 'F7',\n",
    "    'In the last 12 months have you done the following?': 'S1',\n",
    "    'For an online payment that has to be made by card, which one would you opt for generally?': 'A1',\n",
    "    'You are looking to buy new headphones online and you have 2 choices, out of which you need to choose one. The first set of headphones are priced at ₹700, while the other set is marked at ₹1,000 with a 30% discount. Both the sets are similar in terms of quality, performance, and durability.': 'A2',\n",
    "    'From the list given below, identify items that are classified as assets:': 'K1',\n",
    "    \"Suppose you buy a piece of land for  ₹5 lakhs. After 10 years, you sell this land for ₹7 lakhs. How much would your profit be after selling the land? (Assume you don't have to pay any kind of taxes)\": 'K2',\n",
    "    'You have borrowed ₹100 from a friend. Which would be the lower amount to pay back: ₹105 or ₹100 plus 3%?': 'K3',\n",
    "    'Assume that the income tax rate for an annual income between ₹1 lakh and ₹2 lakhs is 5% and for an annual income between ₹2 lakhs and ₹4 lakhs, the income tax rate is 10%. If your annual income is ₹3 lakhs, your income tax would be:': 'K4',\n",
    "    'You want to buy a phone worth ₹25,000 and you decide to save ₹5,000 each month. In your third month of savings period (which would be of 5 months), a relative gifts you ₹4,000 in form of cash. What would you most likely do with this money?' : 'K5',\n",
    "    'Just when you were about to reach your target of saving ₹25,000 for your new phone, you hear about another new, different model worth ₹22,000 and see a huge number of people booking it, along with good recommendations from a lot of well known experts and analysts.': 'K6',\n",
    "    \"You have ₹200 to spend on lunch and you're hungry. You buy some food items worth ₹180 and you feel full again after eating. You are now left with ₹20 of your lunch budget. What are you most likely to do?\": 'K7',\n",
    "    'Which one of the following investments do you consider as safer: putting your entire money in one business/investment, or putting your money into multiple businesses/investments?': 'K8',\n",
    "    \"You lend Rs. 25 to a friend and they return you Rs. 25 the next day. How much interest did they pay on this loan?\": 'K9',\n",
    "    \"Say someone puts Rs. 100 into a tax free, no fee savings account with guaranteed interest is 2% per year. What will be the amount in the account after 5 years?\": 'K10',\n",
    "    \"Suppose 5 brothers are given Rs. 1000 and asked to divide among themselves. However they have to wait for a year to get the money. If inflation stays at X%, then in 1 year will they be able to buy\": 'K11'\n",
    "}\n",
    "columns = [f\"F{i}\" for i in range(1,8)] + [\"S1\", \"A1\", \"A2\"] + [f\"K{i}\" for i in range(1,12)]\n",
    "scored_df = df.rename(columns=column_rename)[columns]"
   ]
  },
  {
   "cell_type": "code",
   "execution_count": 51,
   "metadata": {},
   "outputs": [
    {
     "data": {
      "text/html": [
       "<div>\n",
       "<style scoped>\n",
       "    .dataframe tbody tr th:only-of-type {\n",
       "        vertical-align: middle;\n",
       "    }\n",
       "\n",
       "    .dataframe tbody tr th {\n",
       "        vertical-align: top;\n",
       "    }\n",
       "\n",
       "    .dataframe thead th {\n",
       "        text-align: right;\n",
       "    }\n",
       "</style>\n",
       "<table border=\"1\" class=\"dataframe\">\n",
       "  <thead>\n",
       "    <tr style=\"text-align: right;\">\n",
       "      <th></th>\n",
       "      <th>F1</th>\n",
       "      <th>F2</th>\n",
       "      <th>F3</th>\n",
       "      <th>F4</th>\n",
       "      <th>F5</th>\n",
       "      <th>F6</th>\n",
       "      <th>F7</th>\n",
       "      <th>S1</th>\n",
       "      <th>A1</th>\n",
       "      <th>A2</th>\n",
       "      <th>...</th>\n",
       "      <th>K2</th>\n",
       "      <th>K3</th>\n",
       "      <th>K4</th>\n",
       "      <th>K5</th>\n",
       "      <th>K6</th>\n",
       "      <th>K7</th>\n",
       "      <th>K8</th>\n",
       "      <th>K9</th>\n",
       "      <th>K10</th>\n",
       "      <th>K11</th>\n",
       "    </tr>\n",
       "  </thead>\n",
       "  <tbody>\n",
       "    <tr>\n",
       "      <th>0</th>\n",
       "      <td>Someone else makes these decisions</td>\n",
       "      <td>No, I do not keep a written record of my expen...</td>\n",
       "      <td>I do not keep a written record of my expenses</td>\n",
       "      <td>Putting money in a savings/deposits account</td>\n",
       "      <td>no income</td>\n",
       "      <td>I invest this money periodically across variou...</td>\n",
       "      <td>Don't know</td>\n",
       "      <td>Check the balance and transactions of my bank ...</td>\n",
       "      <td>Debit card</td>\n",
       "      <td>You buy the first set.</td>\n",
       "      <td>...</td>\n",
       "      <td>Rs. 2 lakhs</td>\n",
       "      <td>Rs. 100 plus 3%</td>\n",
       "      <td>Rs. 30,000</td>\n",
       "      <td>Add it to your savings for your new phone and ...</td>\n",
       "      <td>Seeing the huge demand, you decide to buy ₹22,...</td>\n",
       "      <td>Buy some light snack or beverage worth ₹20 to ...</td>\n",
       "      <td>Multiple businesses/investment</td>\n",
       "      <td>No interest</td>\n",
       "      <td>Less than Rs. 110 (or is it?)</td>\n",
       "      <td>Not sure</td>\n",
       "    </tr>\n",
       "  </tbody>\n",
       "</table>\n",
       "<p>1 rows × 21 columns</p>\n",
       "</div>"
      ],
      "text/plain": [
       "                                   F1  \\\n",
       "0  Someone else makes these decisions   \n",
       "\n",
       "                                                  F2  \\\n",
       "0  No, I do not keep a written record of my expen...   \n",
       "\n",
       "                                              F3  \\\n",
       "0  I do not keep a written record of my expenses   \n",
       "\n",
       "                                            F4         F5  \\\n",
       "0  Putting money in a savings/deposits account  no income   \n",
       "\n",
       "                                                  F6          F7  \\\n",
       "0  I invest this money periodically across variou...  Don't know   \n",
       "\n",
       "                                                  S1          A1  \\\n",
       "0  Check the balance and transactions of my bank ...  Debit card   \n",
       "\n",
       "                       A2  ...           K2               K3          K4  \\\n",
       "0  You buy the first set.  ...  Rs. 2 lakhs  Rs. 100 plus 3%  Rs. 30,000   \n",
       "\n",
       "                                                  K5  \\\n",
       "0  Add it to your savings for your new phone and ...   \n",
       "\n",
       "                                                  K6  \\\n",
       "0  Seeing the huge demand, you decide to buy ₹22,...   \n",
       "\n",
       "                                                  K7  \\\n",
       "0  Buy some light snack or beverage worth ₹20 to ...   \n",
       "\n",
       "                               K8           K9                            K10  \\\n",
       "0  Multiple businesses/investment  No interest  Less than Rs. 110 (or is it?)   \n",
       "\n",
       "        K11  \n",
       "0  Not sure  \n",
       "\n",
       "[1 rows x 21 columns]"
      ]
     },
     "execution_count": 51,
     "metadata": {},
     "output_type": "execute_result"
    }
   ],
   "source": [
    "scored_df.head(n=1)"
   ]
  },
  {
   "cell_type": "code",
   "execution_count": 52,
   "metadata": {},
   "outputs": [
    {
     "data": {
      "text/plain": [
       "0    149\n",
       "1     36\n",
       "Name: F1, dtype: int64"
      ]
     },
     "execution_count": 52,
     "metadata": {},
     "output_type": "execute_result"
    }
   ],
   "source": [
    "scored_df.F1 = scored_df.F1.map({\n",
    "    'Someone else makes these decisions': 0,\n",
    "    'You make these decisions by yourself': 1,\n",
    "    'You make these decisions with someone else': 0\n",
    "})\n",
    "scored_df.F1.value_counts()"
   ]
  },
  {
   "cell_type": "code",
   "execution_count": 53,
   "metadata": {},
   "outputs": [
    {
     "data": {
      "text/plain": [
       "0    119\n",
       "1     66\n",
       "Name: F2, dtype: int64"
      ]
     },
     "execution_count": 53,
     "metadata": {},
     "output_type": "execute_result"
    }
   ],
   "source": [
    "scored_df.F2 = scored_df.F2.map({\n",
    "    'Yes, I do so each month': 1,\n",
    "    'Yes, but only sometimes': 0,\n",
    "    'No, I do not keep a written record of my expenses and savings': 0\n",
    "})\n",
    "scored_df.F2.value_counts()"
   ]
  },
  {
   "cell_type": "code",
   "execution_count": 54,
   "metadata": {},
   "outputs": [
    {
     "data": {
      "text/plain": [
       "\"scored_df['F1_old'] = data['F1']\\nscored_df['F2_old'] = data['F2']\\n\\ndef score_f1(data, row):\\n    if row['F1_old'] == 'active' and row['F2_old'] == 'active':\\n        return 1\\n    else:\\n        return 0\\n        \""
      ]
     },
     "execution_count": 54,
     "metadata": {},
     "output_type": "execute_result"
    }
   ],
   "source": [
    "'''scored_df['F1_old'] = data['F1']\n",
    "scored_df['F2_old'] = data['F2']\n",
    "\n",
    "def score_f1(data, row):\n",
    "    if row['F1_old'] == 'active' and row['F2_old'] == 'active':\n",
    "        return 1\n",
    "    else:\n",
    "        return 0\n",
    "        '''"
   ]
  },
  {
   "cell_type": "code",
   "execution_count": 55,
   "metadata": {},
   "outputs": [],
   "source": [
    "#scored_df['F1+F2'] = scored_df.apply(lambda row: score_f1(data=data, row=row), axis=1)"
   ]
  },
  {
   "cell_type": "code",
   "execution_count": 56,
   "metadata": {},
   "outputs": [],
   "source": [
    "#scored_df['F1+F2'].value_counts()"
   ]
  },
  {
   "cell_type": "code",
   "execution_count": 57,
   "metadata": {},
   "outputs": [],
   "source": [
    "scored_df.F3 = scored_df.F3.map({\n",
    "    'I do not keep a written record of my expenses': 0,\n",
    "    'I write things down on paper in the form of notes': 1,\n",
    "    'I make use of spreadsheets or other similar tools': 1\n",
    "})"
   ]
  },
  {
   "cell_type": "code",
   "execution_count": 58,
   "metadata": {},
   "outputs": [],
   "source": [
    "scored_df.F4 = scored_df.F4.apply(lambda x: x.replace(\"assets, NFTs\", \"assets,NFTs\"))"
   ]
  },
  {
   "cell_type": "code",
   "execution_count": 59,
   "metadata": {},
   "outputs": [],
   "source": [
    "scored_df.F4 = scored_df.F4.apply(lambda x: 1 if len(x.split(\", \"))>=2 else 0)"
   ]
  },
  {
   "cell_type": "code",
   "execution_count": 15,
   "metadata": {},
   "outputs": [],
   "source": [
    "#scored_df.drop(columns=['F1_old', 'F2_old'], inplace=True)"
   ]
  },
  {
   "cell_type": "code",
   "execution_count": 60,
   "metadata": {},
   "outputs": [
    {
     "data": {
      "text/plain": [
       "array(['no income', '10% - 50%', '< 5%', '5% - 10%', '> 50%'],\n",
       "      dtype=object)"
      ]
     },
     "execution_count": 60,
     "metadata": {},
     "output_type": "execute_result"
    }
   ],
   "source": [
    "scored_df.F5.unique()                         #needed to add scoring"
   ]
  },
  {
   "cell_type": "code",
   "execution_count": 61,
   "metadata": {},
   "outputs": [
    {
     "data": {
      "text/plain": [
       "1    144\n",
       "0     41\n",
       "Name: F6, dtype: int64"
      ]
     },
     "execution_count": 61,
     "metadata": {},
     "output_type": "execute_result"
    }
   ],
   "source": [
    "scored_df.F6 = scored_df.F6.map({\n",
    "    'I keep the money in my bank account': 1,\n",
    "    'I invest this money periodically across various asset classes like bonds, stocks, cryptocurrency, fixed deposits, etc.': 1,\n",
    "    \"I'm generally not able to save money each month\": 0,\n",
    "    \"I spend the saved money on shopping\": 0\n",
    "})\n",
    "scored_df.F6.value_counts()"
   ]
  },
  {
   "cell_type": "code",
   "execution_count": 62,
   "metadata": {},
   "outputs": [
    {
     "data": {
      "text/html": [
       "<div>\n",
       "<style scoped>\n",
       "    .dataframe tbody tr th:only-of-type {\n",
       "        vertical-align: middle;\n",
       "    }\n",
       "\n",
       "    .dataframe tbody tr th {\n",
       "        vertical-align: top;\n",
       "    }\n",
       "\n",
       "    .dataframe thead th {\n",
       "        text-align: right;\n",
       "    }\n",
       "</style>\n",
       "<table border=\"1\" class=\"dataframe\">\n",
       "  <thead>\n",
       "    <tr style=\"text-align: right;\">\n",
       "      <th></th>\n",
       "      <th>F1</th>\n",
       "      <th>F2</th>\n",
       "      <th>F3</th>\n",
       "      <th>F4</th>\n",
       "      <th>F5</th>\n",
       "      <th>F6</th>\n",
       "      <th>F7</th>\n",
       "      <th>S1</th>\n",
       "      <th>A1</th>\n",
       "      <th>A2</th>\n",
       "      <th>...</th>\n",
       "      <th>K2</th>\n",
       "      <th>K3</th>\n",
       "      <th>K4</th>\n",
       "      <th>K5</th>\n",
       "      <th>K6</th>\n",
       "      <th>K7</th>\n",
       "      <th>K8</th>\n",
       "      <th>K9</th>\n",
       "      <th>K10</th>\n",
       "      <th>K11</th>\n",
       "    </tr>\n",
       "  </thead>\n",
       "  <tbody>\n",
       "    <tr>\n",
       "      <th>0</th>\n",
       "      <td>0</td>\n",
       "      <td>0</td>\n",
       "      <td>0</td>\n",
       "      <td>0</td>\n",
       "      <td>no income</td>\n",
       "      <td>1</td>\n",
       "      <td>Don't know</td>\n",
       "      <td>Check the balance and transactions of my bank ...</td>\n",
       "      <td>Debit card</td>\n",
       "      <td>You buy the first set.</td>\n",
       "      <td>...</td>\n",
       "      <td>Rs. 2 lakhs</td>\n",
       "      <td>Rs. 100 plus 3%</td>\n",
       "      <td>Rs. 30,000</td>\n",
       "      <td>Add it to your savings for your new phone and ...</td>\n",
       "      <td>Seeing the huge demand, you decide to buy ₹22,...</td>\n",
       "      <td>Buy some light snack or beverage worth ₹20 to ...</td>\n",
       "      <td>Multiple businesses/investment</td>\n",
       "      <td>No interest</td>\n",
       "      <td>Less than Rs. 110 (or is it?)</td>\n",
       "      <td>Not sure</td>\n",
       "    </tr>\n",
       "    <tr>\n",
       "      <th>1</th>\n",
       "      <td>1</td>\n",
       "      <td>0</td>\n",
       "      <td>1</td>\n",
       "      <td>0</td>\n",
       "      <td>no income</td>\n",
       "      <td>1</td>\n",
       "      <td>6 months or more</td>\n",
       "      <td>Check the balance and transactions of my bank ...</td>\n",
       "      <td>Debit card</td>\n",
       "      <td>You buy the second set.</td>\n",
       "      <td>...</td>\n",
       "      <td>Not sure</td>\n",
       "      <td>Not sure</td>\n",
       "      <td>Not sure</td>\n",
       "      <td>Add it to your savings for your new phone and ...</td>\n",
       "      <td>Seeing the huge demand, you decide to buy ₹22,...</td>\n",
       "      <td>Buy some light snack or beverage worth ₹20 to ...</td>\n",
       "      <td>Not sure</td>\n",
       "      <td>Not sure</td>\n",
       "      <td>Not sure</td>\n",
       "      <td>Not sure</td>\n",
       "    </tr>\n",
       "  </tbody>\n",
       "</table>\n",
       "<p>2 rows × 21 columns</p>\n",
       "</div>"
      ],
      "text/plain": [
       "   F1  F2  F3  F4         F5  F6                F7  \\\n",
       "0   0   0   0   0  no income   1        Don't know   \n",
       "1   1   0   1   0  no income   1  6 months or more   \n",
       "\n",
       "                                                  S1          A1  \\\n",
       "0  Check the balance and transactions of my bank ...  Debit card   \n",
       "1  Check the balance and transactions of my bank ...  Debit card   \n",
       "\n",
       "                        A2  ...           K2               K3          K4  \\\n",
       "0   You buy the first set.  ...  Rs. 2 lakhs  Rs. 100 plus 3%  Rs. 30,000   \n",
       "1  You buy the second set.  ...     Not sure         Not sure    Not sure   \n",
       "\n",
       "                                                  K5  \\\n",
       "0  Add it to your savings for your new phone and ...   \n",
       "1  Add it to your savings for your new phone and ...   \n",
       "\n",
       "                                                  K6  \\\n",
       "0  Seeing the huge demand, you decide to buy ₹22,...   \n",
       "1  Seeing the huge demand, you decide to buy ₹22,...   \n",
       "\n",
       "                                                  K7  \\\n",
       "0  Buy some light snack or beverage worth ₹20 to ...   \n",
       "1  Buy some light snack or beverage worth ₹20 to ...   \n",
       "\n",
       "                               K8           K9                            K10  \\\n",
       "0  Multiple businesses/investment  No interest  Less than Rs. 110 (or is it?)   \n",
       "1                        Not sure     Not sure                       Not sure   \n",
       "\n",
       "        K11  \n",
       "0  Not sure  \n",
       "1  Not sure  \n",
       "\n",
       "[2 rows x 21 columns]"
      ]
     },
     "execution_count": 62,
     "metadata": {},
     "output_type": "execute_result"
    }
   ],
   "source": [
    "scored_df.head(n = 2)"
   ]
  },
  {
   "cell_type": "code",
   "execution_count": 63,
   "metadata": {},
   "outputs": [
    {
     "data": {
      "text/plain": [
       "Check the balance and transactions of my bank account online, Bought goods and services online                                                                               74\n",
       "Check the balance and transactions of my bank account online, Bought goods and services online, Managed financial products and services (investments,loan,credits) online    65\n",
       "Check the balance and transactions of my bank account online                                                                                                                 23\n",
       "Bought goods and services online                                                                                                                                             16\n",
       "Managed financial products and services (investments,loan,credits) online                                                                                                     4\n",
       "Bought goods and services online, Managed financial products and services (investments,loan,credits) online                                                                   3\n",
       "Name: S1, dtype: int64"
      ]
     },
     "execution_count": 63,
     "metadata": {},
     "output_type": "execute_result"
    }
   ],
   "source": [
    "scored_df.S1 = scored_df.S1.apply(lambda x: x.replace(\"(investments, loan, credits)\", \"(investments,loan,credits)\"))\n",
    "scored_df.S1.value_counts()"
   ]
  },
  {
   "cell_type": "code",
   "execution_count": 64,
   "metadata": {},
   "outputs": [],
   "source": [
    "scored_df.S1 = scored_df.S1.apply(lambda x: len(x.split(\", \")))"
   ]
  },
  {
   "cell_type": "code",
   "execution_count": 65,
   "metadata": {},
   "outputs": [],
   "source": [
    "scored_df.K1 = scored_df.K1.apply(lambda x: 1 if x == \"Jewellery, Car, House, Art works\" else 0)"
   ]
  },
  {
   "cell_type": "code",
   "execution_count": 69,
   "metadata": {},
   "outputs": [
    {
     "data": {
      "text/html": [
       "<div>\n",
       "<style scoped>\n",
       "    .dataframe tbody tr th:only-of-type {\n",
       "        vertical-align: middle;\n",
       "    }\n",
       "\n",
       "    .dataframe tbody tr th {\n",
       "        vertical-align: top;\n",
       "    }\n",
       "\n",
       "    .dataframe thead th {\n",
       "        text-align: right;\n",
       "    }\n",
       "</style>\n",
       "<table border=\"1\" class=\"dataframe\">\n",
       "  <thead>\n",
       "    <tr style=\"text-align: right;\">\n",
       "      <th></th>\n",
       "      <th>F1</th>\n",
       "      <th>F2</th>\n",
       "      <th>F3</th>\n",
       "      <th>F4</th>\n",
       "      <th>F5</th>\n",
       "      <th>F6</th>\n",
       "      <th>F7</th>\n",
       "      <th>S1</th>\n",
       "      <th>A1</th>\n",
       "      <th>A2</th>\n",
       "      <th>...</th>\n",
       "      <th>K2</th>\n",
       "      <th>K3</th>\n",
       "      <th>K4</th>\n",
       "      <th>K5</th>\n",
       "      <th>K6</th>\n",
       "      <th>K7</th>\n",
       "      <th>K8</th>\n",
       "      <th>K9</th>\n",
       "      <th>K10</th>\n",
       "      <th>K11</th>\n",
       "    </tr>\n",
       "  </thead>\n",
       "  <tbody>\n",
       "    <tr>\n",
       "      <th>0</th>\n",
       "      <td>0</td>\n",
       "      <td>0</td>\n",
       "      <td>0</td>\n",
       "      <td>0</td>\n",
       "      <td>no income</td>\n",
       "      <td>1</td>\n",
       "      <td>Don't know</td>\n",
       "      <td>2</td>\n",
       "      <td>Debit card</td>\n",
       "      <td>You buy the first set.</td>\n",
       "      <td>...</td>\n",
       "      <td>0</td>\n",
       "      <td>1</td>\n",
       "      <td>1</td>\n",
       "      <td>Add it to your savings for your new phone and ...</td>\n",
       "      <td>Seeing the huge demand, you decide to buy ₹22,...</td>\n",
       "      <td>Buy some light snack or beverage worth ₹20 to ...</td>\n",
       "      <td>Multiple businesses/investment</td>\n",
       "      <td>No interest</td>\n",
       "      <td>Less than Rs. 110 (or is it?)</td>\n",
       "      <td>Not sure</td>\n",
       "    </tr>\n",
       "    <tr>\n",
       "      <th>1</th>\n",
       "      <td>1</td>\n",
       "      <td>0</td>\n",
       "      <td>1</td>\n",
       "      <td>0</td>\n",
       "      <td>no income</td>\n",
       "      <td>1</td>\n",
       "      <td>6 months or more</td>\n",
       "      <td>2</td>\n",
       "      <td>Debit card</td>\n",
       "      <td>You buy the second set.</td>\n",
       "      <td>...</td>\n",
       "      <td>0</td>\n",
       "      <td>0</td>\n",
       "      <td>0</td>\n",
       "      <td>Add it to your savings for your new phone and ...</td>\n",
       "      <td>Seeing the huge demand, you decide to buy ₹22,...</td>\n",
       "      <td>Buy some light snack or beverage worth ₹20 to ...</td>\n",
       "      <td>Not sure</td>\n",
       "      <td>Not sure</td>\n",
       "      <td>Not sure</td>\n",
       "      <td>Not sure</td>\n",
       "    </tr>\n",
       "    <tr>\n",
       "      <th>2</th>\n",
       "      <td>0</td>\n",
       "      <td>0</td>\n",
       "      <td>1</td>\n",
       "      <td>1</td>\n",
       "      <td>10% - 50%</td>\n",
       "      <td>1</td>\n",
       "      <td>6 months or more</td>\n",
       "      <td>2</td>\n",
       "      <td>Debit card</td>\n",
       "      <td>You buy the second set.</td>\n",
       "      <td>...</td>\n",
       "      <td>0</td>\n",
       "      <td>0</td>\n",
       "      <td>0</td>\n",
       "      <td>Add it to your savings for your new phone and ...</td>\n",
       "      <td>You stick with the ₹25,000 model</td>\n",
       "      <td>You keep the remaining money with yourself and...</td>\n",
       "      <td>Multiple businesses/investment</td>\n",
       "      <td>Not sure</td>\n",
       "      <td>Not sure</td>\n",
       "      <td>Not sure</td>\n",
       "    </tr>\n",
       "    <tr>\n",
       "      <th>3</th>\n",
       "      <td>0</td>\n",
       "      <td>0</td>\n",
       "      <td>1</td>\n",
       "      <td>0</td>\n",
       "      <td>no income</td>\n",
       "      <td>1</td>\n",
       "      <td>Atleast a week but less than a month</td>\n",
       "      <td>2</td>\n",
       "      <td>Debit card</td>\n",
       "      <td>You buy the first set.</td>\n",
       "      <td>...</td>\n",
       "      <td>1</td>\n",
       "      <td>1</td>\n",
       "      <td>0</td>\n",
       "      <td>Add it to your savings for your new phone and ...</td>\n",
       "      <td>Seeing the huge demand, you decide to buy ₹22,...</td>\n",
       "      <td>Buy some light snack or beverage worth ₹20 to ...</td>\n",
       "      <td>Multiple businesses/investment</td>\n",
       "      <td>No interest</td>\n",
       "      <td>Not sure</td>\n",
       "      <td>Less than they can buy today</td>\n",
       "    </tr>\n",
       "    <tr>\n",
       "      <th>4</th>\n",
       "      <td>0</td>\n",
       "      <td>1</td>\n",
       "      <td>1</td>\n",
       "      <td>0</td>\n",
       "      <td>10% - 50%</td>\n",
       "      <td>1</td>\n",
       "      <td>Atleast one month but less than 3 months</td>\n",
       "      <td>3</td>\n",
       "      <td>Debit card</td>\n",
       "      <td>You buy the first set.</td>\n",
       "      <td>...</td>\n",
       "      <td>1</td>\n",
       "      <td>1</td>\n",
       "      <td>0</td>\n",
       "      <td>Add it to your savings for your new phone and ...</td>\n",
       "      <td>Seeing the huge demand, you decide to buy ₹22,...</td>\n",
       "      <td>You keep the remaining money with yourself and...</td>\n",
       "      <td>Multiple businesses/investment</td>\n",
       "      <td>No interest</td>\n",
       "      <td>More than Rs. 110</td>\n",
       "      <td>The same amount</td>\n",
       "    </tr>\n",
       "  </tbody>\n",
       "</table>\n",
       "<p>5 rows × 21 columns</p>\n",
       "</div>"
      ],
      "text/plain": [
       "   F1  F2  F3  F4         F5  F6                                        F7  \\\n",
       "0   0   0   0   0  no income   1                                Don't know   \n",
       "1   1   0   1   0  no income   1                          6 months or more   \n",
       "2   0   0   1   1  10% - 50%   1                          6 months or more   \n",
       "3   0   0   1   0  no income   1      Atleast a week but less than a month   \n",
       "4   0   1   1   0  10% - 50%   1  Atleast one month but less than 3 months   \n",
       "\n",
       "   S1          A1                       A2  ...  K2  K3  K4  \\\n",
       "0   2  Debit card   You buy the first set.  ...   0   1   1   \n",
       "1   2  Debit card  You buy the second set.  ...   0   0   0   \n",
       "2   2  Debit card  You buy the second set.  ...   0   0   0   \n",
       "3   2  Debit card   You buy the first set.  ...   1   1   0   \n",
       "4   3  Debit card   You buy the first set.  ...   1   1   0   \n",
       "\n",
       "                                                  K5  \\\n",
       "0  Add it to your savings for your new phone and ...   \n",
       "1  Add it to your savings for your new phone and ...   \n",
       "2  Add it to your savings for your new phone and ...   \n",
       "3  Add it to your savings for your new phone and ...   \n",
       "4  Add it to your savings for your new phone and ...   \n",
       "\n",
       "                                                  K6  \\\n",
       "0  Seeing the huge demand, you decide to buy ₹22,...   \n",
       "1  Seeing the huge demand, you decide to buy ₹22,...   \n",
       "2                   You stick with the ₹25,000 model   \n",
       "3  Seeing the huge demand, you decide to buy ₹22,...   \n",
       "4  Seeing the huge demand, you decide to buy ₹22,...   \n",
       "\n",
       "                                                  K7  \\\n",
       "0  Buy some light snack or beverage worth ₹20 to ...   \n",
       "1  Buy some light snack or beverage worth ₹20 to ...   \n",
       "2  You keep the remaining money with yourself and...   \n",
       "3  Buy some light snack or beverage worth ₹20 to ...   \n",
       "4  You keep the remaining money with yourself and...   \n",
       "\n",
       "                               K8           K9                            K10  \\\n",
       "0  Multiple businesses/investment  No interest  Less than Rs. 110 (or is it?)   \n",
       "1                        Not sure     Not sure                       Not sure   \n",
       "2  Multiple businesses/investment     Not sure                       Not sure   \n",
       "3  Multiple businesses/investment  No interest                       Not sure   \n",
       "4  Multiple businesses/investment  No interest              More than Rs. 110   \n",
       "\n",
       "                            K11  \n",
       "0                      Not sure  \n",
       "1                      Not sure  \n",
       "2                      Not sure  \n",
       "3  Less than they can buy today  \n",
       "4               The same amount  \n",
       "\n",
       "[5 rows x 21 columns]"
      ]
     },
     "execution_count": 69,
     "metadata": {},
     "output_type": "execute_result"
    }
   ],
   "source": [
    "scored_df.head()"
   ]
  },
  {
   "cell_type": "code",
   "execution_count": 67,
   "metadata": {},
   "outputs": [
    {
     "data": {
      "text/plain": [
       "array(['Buy some light snack or beverage worth ₹20 to top off your lunch, thus exhausting your complete budget for lunch.',\n",
       "       'You keep the remaining money with yourself and do not buy anything else.'],\n",
       "      dtype=object)"
      ]
     },
     "execution_count": 67,
     "metadata": {},
     "output_type": "execute_result"
    }
   ],
   "source": [
    "scored_df.K7.unique()"
   ]
  },
  {
   "cell_type": "code",
   "execution_count": 68,
   "metadata": {},
   "outputs": [],
   "source": [
    "scored_df.K2 = scored_df.K2.map({\n",
    "    'Rs. 2 lakhs': 0,\n",
    "    'Not sure': 0,\n",
    "    'Less than Rs. 2 lakhs': 1,\n",
    "    'You will lose money': 1\n",
    "})\n",
    "scored_df.K3 = scored_df.K3.map(lambda x: 1 if x=='Rs. 100 plus 3%' else 0)\n",
    "scored_df.K4 = scored_df.K4.map(lambda x: 1 if x=='Rs. 30,000' else 0)"
   ]
  },
  {
   "cell_type": "markdown",
   "metadata": {},
   "source": [
    "##Rest needs to have updated scoring"
   ]
  },
  {
   "cell_type": "code",
   "execution_count": null,
   "metadata": {},
   "outputs": [],
   "source": []
  }
 ],
 "metadata": {
  "kernelspec": {
   "display_name": "Python 3.9.7 ('base')",
   "language": "python",
   "name": "python3"
  },
  "language_info": {
   "codemirror_mode": {
    "name": "ipython",
    "version": 3
   },
   "file_extension": ".py",
   "mimetype": "text/x-python",
   "name": "python",
   "nbconvert_exporter": "python",
   "pygments_lexer": "ipython3",
   "version": "3.9.7"
  },
  "orig_nbformat": 4,
  "vscode": {
   "interpreter": {
    "hash": "ea25a83c4575d06e1ecd35c4e3e27bc15857d3010b1b79dec070a12d7cfad242"
   }
  }
 },
 "nbformat": 4,
 "nbformat_minor": 2
}
