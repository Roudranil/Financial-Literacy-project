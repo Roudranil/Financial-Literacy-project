{
 "cells": [
  {
   "cell_type": "code",
   "execution_count": 4,
   "metadata": {},
   "outputs": [],
   "source": [
    "import pandas as pd"
   ]
  },
  {
   "cell_type": "code",
   "execution_count": 2,
   "metadata": {},
   "outputs": [],
   "source": [
    "from sklearn.ensemble import RandomForestRegressor\n",
    "from sklearn.model_selection import train_test_split\n",
    "from sklearn.metrics import mean_absolute_error"
   ]
  },
  {
   "cell_type": "code",
   "execution_count": 3,
   "metadata": {},
   "outputs": [],
   "source": [
    "max_leaf = list(range(0,1000,25))"
   ]
  },
  {
   "cell_type": "code",
   "execution_count": 8,
   "metadata": {},
   "outputs": [],
   "source": [
    "df = pd.read_csv(\"responses (55).csv\")\n",
    "#df.head(n = 1)"
   ]
  },
  {
   "cell_type": "code",
   "execution_count": null,
   "metadata": {},
   "outputs": [],
   "source": [
    "X = df.loc[[]]                                  #train data parameters\n",
    "y = df.loc[[]]                                  #train data results"
   ]
  },
  {
   "cell_type": "code",
   "execution_count": null,
   "metadata": {},
   "outputs": [],
   "source": [
    "train_X, val_X, train_y, val_y = train_test_split(X, y, random_state= 1)\n",
    "dict_max_leaf = {}\n",
    "for _ in max_leaf:                                                                                #to check the most optimal number of leaf nodes, we try with different values\n",
    "    model = RandomForestRegressor(random_state=1, max_leaf_nodes= _).fit(train_X, train_y)\n",
    "    dict_max_leaf[_] = mean_absolute_error(model.predict(val_X), val_y)"
   ]
  },
  {
   "cell_type": "code",
   "execution_count": null,
   "metadata": {},
   "outputs": [],
   "source": [
    "leaf_node = min(dict_max_leaf, key = dict_max_leaf.get)                                          #get the number of leaf nodes with least error"
   ]
  },
  {
   "cell_type": "code",
   "execution_count": null,
   "metadata": {},
   "outputs": [],
   "source": [
    "train_X, val_X, train_y, val_y = train_test_split(X, y, random_state= 1)\n",
    "model = RandomForestRegressor(random_state=1, max_leaf_nodes= leaf_node).fit(train_X, train_y)\n",
    "predicted_values = model.predict(val_X)\n",
    "mean_absolute_error(predicted_values, val_y)                                                        #finally predict the data"
   ]
  }
 ],
 "metadata": {
  "kernelspec": {
   "display_name": "Python 3.9.7 ('base')",
   "language": "python",
   "name": "python3"
  },
  "language_info": {
   "codemirror_mode": {
    "name": "ipython",
    "version": 3
   },
   "file_extension": ".py",
   "mimetype": "text/x-python",
   "name": "python",
   "nbconvert_exporter": "python",
   "pygments_lexer": "ipython3",
   "version": "3.9.7"
  },
  "orig_nbformat": 4,
  "vscode": {
   "interpreter": {
    "hash": "ea25a83c4575d06e1ecd35c4e3e27bc15857d3010b1b79dec070a12d7cfad242"
   }
  }
 },
 "nbformat": 4,
 "nbformat_minor": 2
}
