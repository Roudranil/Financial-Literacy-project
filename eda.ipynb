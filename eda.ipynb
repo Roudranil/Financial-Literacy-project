{
 "cells": [
  {
   "cell_type": "code",
   "execution_count": 1,
   "metadata": {},
   "outputs": [],
   "source": [
    "import numpy as np\n",
    "import pandas as pd\n",
    "import matplotlib.pyplot as plt"
   ]
  },
  {
   "cell_type": "code",
   "execution_count": 23,
   "metadata": {},
   "outputs": [],
   "source": [
    "import seaborn as sns"
   ]
  },
  {
   "cell_type": "code",
   "execution_count": 2,
   "metadata": {},
   "outputs": [],
   "source": [
    "data = pd.read_csv(\"responses (55).csv\")\n",
    "data.drop(columns=['Timestamp'], inplace=True)\n",
    "data.drop(index=[21, 129], inplace=True)\n",
    "data.loc[62, 'Sex'] = data.loc[136, 'Sex'] = 'Other'\n",
    "data['Where do you live? (name of village/town/city)'] = data['Where do you live? (name of village/town/city)'].apply(lambda x: x.strip().lower())"
   ]
  },
  {
   "cell_type": "code",
   "execution_count": 3,
   "metadata": {},
   "outputs": [],
   "source": [
    "working_data = data.copy()"
   ]
  },
  {
   "cell_type": "code",
   "execution_count": 25,
   "metadata": {},
   "outputs": [],
   "source": [
    "plt.rcParams['figure.figsize'] = 16, 16"
   ]
  },
  {
   "cell_type": "markdown",
   "metadata": {},
   "source": [
    "### column renaming"
   ]
  },
  {
   "cell_type": "code",
   "execution_count": 4,
   "metadata": {},
   "outputs": [],
   "source": [
    "column_rename = {\n",
    "    'Where do you live? (name of village/town/city)': 'P1',\n",
    "    'Do you live in a rural or urban area?': 'P2',\n",
    "    'Sex': 'P3',\n",
    "    'Age': 'P4',\n",
    "    'Your medium of schooling': 'P5',\n",
    "    'Your highest educational qualification': 'P6',\n",
    "    'Your monthly household income (in INR)': 'P7',\n",
    "    'Who do you live with in your residence (i.e., where you currently reside)? ': 'P8',\n",
    "    \"Your father's highest educational qualification\": 'P9',\n",
    "    \"Your mother's highest educational qualification\": 'P10',\n",
    "    'Who is responsible for making day-to-day decisions about money in your household?': 'F1',\n",
    "    'Do you prepare a budget to keep track of necessary expenses and savings?': 'F2',\n",
    "    'How do you keep track of your monthly expenses?': 'F3',\n",
    "    'In the past 12 months have you been personally saving money in any of the following ways?': 'F4',\n",
    "    'What percentage of your total monthly income (or allowance) do you keep aside for active savings?': 'F5',\n",
    "    'What do you usually do to grow the money that you manage to save each month?': 'F6',\n",
    "    'If you lost your main source of income today, how long would you be able to continue your current living expenses without borrowing money or moving house?': 'F7',\n",
    "    'In the last 12 months have you done the following?': 'S1',\n",
    "    'For an online payment that has to be made by card, which one would you opt for generally?': 'A1',\n",
    "    'You are looking to buy new headphones online and you have 2 choices, out of which you need to choose one. The first set of headphones are priced at ₹700, while the other set is marked at ₹1,000 with a 30% discount. Both the sets are similar in terms of quality, performance, and durability.': 'A2',\n",
    "    'From the list given below, identify items that are classified as assets:': 'K1',\n",
    "    \"Suppose you buy a piece of land for  ₹5 lakhs. After 10 years, you sell this land for ₹7 lakhs. How much would your profit be after selling the land? (Assume you don't have to pay any kind of taxes)\": 'K2',\n",
    "    'You have borrowed ₹100 from a friend. Which would be the lower amount to pay back: ₹105 or ₹100 plus 3%?': 'K3',\n",
    "    'Assume that the income tax rate for an annual income between ₹1 lakh and ₹2 lakhs is 5% and for an annual income between ₹2 lakhs and ₹4 lakhs, the income tax rate is 10%. If your annual income is ₹3 lakhs, your income tax would be:': 'K4',\n",
    "    'You want to buy a phone worth ₹25,000 and you decide to save ₹5,000 each month. In your third month of savings period (which would be of 5 months), a relative gifts you ₹4,000 in form of cash. What would you most likely do with this money?' : 'K5',\n",
    "    'Just when you were about to reach your target of saving ₹25,000 for your new phone, you hear about another new, different model worth ₹22,000 and see a huge number of people booking it, along with good recommendations from a lot of well known experts and analysts.': 'K6',\n",
    "    \"You have ₹200 to spend on lunch and you're hungry. You buy some food items worth ₹180 and you feel full again after eating. You are now left with ₹20 of your lunch budget. What are you most likely to do?\": 'K7',\n",
    "    'Which one of the following investments do you consider as safer: putting your entire money in one business/investment, or putting your money into multiple businesses/investments?': 'K8',\n",
    "    \"You lend Rs. 25 to a friend and they return you Rs. 25 the next day. How much interest did they pay on this loan?\": 'K9',\n",
    "    \"Say someone puts Rs. 100 into a tax free, no fee savings account with guaranteed interest is 2% per year. What will be the amount in the account after 5 years?\": 'K10',\n",
    "    \"Suppose 5 brothers are given Rs. 1000 and asked to divide among themselves. However they have to wait for a year to get the money. If inflation stays at X%, then in 1 year will they be able to buy\": 'K11'\n",
    "}"
   ]
  },
  {
   "cell_type": "code",
   "execution_count": 6,
   "metadata": {},
   "outputs": [],
   "source": [
    "columns = [f\"P{i}\" for i in range(2,11)] + [f\"F{i}\" for i in range(1,8)] + [\"S1\", \"A1\", \"A2\"] + [f\"K{i}\" for i in range(1,12)]\n",
    "renamed_data = data.rename(columns=column_rename)[columns].copy()"
   ]
  },
  {
   "cell_type": "code",
   "execution_count": 7,
   "metadata": {},
   "outputs": [
    {
     "data": {
      "text/html": [
       "<div>\n",
       "<style scoped>\n",
       "    .dataframe tbody tr th:only-of-type {\n",
       "        vertical-align: middle;\n",
       "    }\n",
       "\n",
       "    .dataframe tbody tr th {\n",
       "        vertical-align: top;\n",
       "    }\n",
       "\n",
       "    .dataframe thead th {\n",
       "        text-align: right;\n",
       "    }\n",
       "</style>\n",
       "<table border=\"1\" class=\"dataframe\">\n",
       "  <thead>\n",
       "    <tr style=\"text-align: right;\">\n",
       "      <th></th>\n",
       "      <th>P2</th>\n",
       "      <th>P3</th>\n",
       "      <th>P4</th>\n",
       "      <th>P5</th>\n",
       "      <th>P6</th>\n",
       "      <th>P7</th>\n",
       "      <th>P8</th>\n",
       "      <th>P9</th>\n",
       "      <th>P10</th>\n",
       "      <th>F1</th>\n",
       "      <th>...</th>\n",
       "      <th>K2</th>\n",
       "      <th>K3</th>\n",
       "      <th>K4</th>\n",
       "      <th>K5</th>\n",
       "      <th>K6</th>\n",
       "      <th>K7</th>\n",
       "      <th>K8</th>\n",
       "      <th>K9</th>\n",
       "      <th>K10</th>\n",
       "      <th>K11</th>\n",
       "    </tr>\n",
       "  </thead>\n",
       "  <tbody>\n",
       "    <tr>\n",
       "      <th>182</th>\n",
       "      <td>Urban</td>\n",
       "      <td>Female</td>\n",
       "      <td>19</td>\n",
       "      <td>English</td>\n",
       "      <td>12th pass</td>\n",
       "      <td>&gt; 60,000</td>\n",
       "      <td>With other adult relatives</td>\n",
       "      <td>Graduate</td>\n",
       "      <td>Graduate</td>\n",
       "      <td>Someone else makes these decisions</td>\n",
       "      <td>...</td>\n",
       "      <td>Rs. 2 lakhs</td>\n",
       "      <td>Rs. 100 plus 3%</td>\n",
       "      <td>Rs. 30,000</td>\n",
       "      <td>Add it to your savings for your new phone and ...</td>\n",
       "      <td>Seeing the huge demand, you decide to buy ₹22,...</td>\n",
       "      <td>You keep the remaining money with yourself and...</td>\n",
       "      <td>Multiple businesses/investment</td>\n",
       "      <td>No interest</td>\n",
       "      <td>Not sure</td>\n",
       "      <td>Not sure</td>\n",
       "    </tr>\n",
       "    <tr>\n",
       "      <th>183</th>\n",
       "      <td>Urban</td>\n",
       "      <td>Male</td>\n",
       "      <td>21</td>\n",
       "      <td>English</td>\n",
       "      <td>12th pass</td>\n",
       "      <td>&gt; 60,000</td>\n",
       "      <td>With other adult relatives</td>\n",
       "      <td>Graduate</td>\n",
       "      <td>Postgraduate</td>\n",
       "      <td>Someone else makes these decisions</td>\n",
       "      <td>...</td>\n",
       "      <td>You will lose money</td>\n",
       "      <td>Not sure</td>\n",
       "      <td>Rs. 30,000</td>\n",
       "      <td>Use it for some other personal expense as this...</td>\n",
       "      <td>You stick with the ₹25,000 model</td>\n",
       "      <td>You keep the remaining money with yourself and...</td>\n",
       "      <td>Multiple businesses/investment</td>\n",
       "      <td>No interest</td>\n",
       "      <td>Not sure</td>\n",
       "      <td>Less than they can buy today</td>\n",
       "    </tr>\n",
       "    <tr>\n",
       "      <th>184</th>\n",
       "      <td>Urban</td>\n",
       "      <td>Male</td>\n",
       "      <td>31</td>\n",
       "      <td>Bengali</td>\n",
       "      <td>Postgraduate</td>\n",
       "      <td>20,000 - 40,000</td>\n",
       "      <td>With other adult relatives</td>\n",
       "      <td>Graduate</td>\n",
       "      <td>Graduate</td>\n",
       "      <td>You make these decisions by yourself</td>\n",
       "      <td>...</td>\n",
       "      <td>Not sure</td>\n",
       "      <td>Rs. 100 plus 3%</td>\n",
       "      <td>Not sure</td>\n",
       "      <td>Add it to your savings for your new phone and ...</td>\n",
       "      <td>You stick with the ₹25,000 model</td>\n",
       "      <td>You keep the remaining money with yourself and...</td>\n",
       "      <td>Not sure</td>\n",
       "      <td>Not sure</td>\n",
       "      <td>Not sure</td>\n",
       "      <td>Not sure</td>\n",
       "    </tr>\n",
       "    <tr>\n",
       "      <th>185</th>\n",
       "      <td>Urban</td>\n",
       "      <td>Male</td>\n",
       "      <td>21</td>\n",
       "      <td>Bengali</td>\n",
       "      <td>Graduate</td>\n",
       "      <td>&lt; 20,000</td>\n",
       "      <td>Alone</td>\n",
       "      <td>Graduate</td>\n",
       "      <td>10th pass or less</td>\n",
       "      <td>You make these decisions with someone else</td>\n",
       "      <td>...</td>\n",
       "      <td>You will lose money</td>\n",
       "      <td>Rs. 100 plus 3%</td>\n",
       "      <td>Rs. 30,000</td>\n",
       "      <td>Add it to your savings for your new phone and ...</td>\n",
       "      <td>Seeing the huge demand, you decide to buy ₹22,...</td>\n",
       "      <td>You keep the remaining money with yourself and...</td>\n",
       "      <td>Multiple businesses/investment</td>\n",
       "      <td>No interest</td>\n",
       "      <td>More than Rs. 110</td>\n",
       "      <td>Less than they can buy today</td>\n",
       "    </tr>\n",
       "    <tr>\n",
       "      <th>186</th>\n",
       "      <td>Urban</td>\n",
       "      <td>Male</td>\n",
       "      <td>21</td>\n",
       "      <td>Bengali</td>\n",
       "      <td>12th pass</td>\n",
       "      <td>&lt; 20,000</td>\n",
       "      <td>With other adult relatives</td>\n",
       "      <td>12th pass</td>\n",
       "      <td>Graduate</td>\n",
       "      <td>You make these decisions with someone else</td>\n",
       "      <td>...</td>\n",
       "      <td>Rs. 2 lakhs</td>\n",
       "      <td>Rs. 100 plus 3%</td>\n",
       "      <td>Rs. 30,000</td>\n",
       "      <td>Add it to your savings for your new phone and ...</td>\n",
       "      <td>You stick with the ₹25,000 model</td>\n",
       "      <td>You keep the remaining money with yourself and...</td>\n",
       "      <td>Multiple businesses/investment</td>\n",
       "      <td>No interest</td>\n",
       "      <td>More than Rs. 110</td>\n",
       "      <td>Not sure</td>\n",
       "    </tr>\n",
       "  </tbody>\n",
       "</table>\n",
       "<p>5 rows × 30 columns</p>\n",
       "</div>"
      ],
      "text/plain": [
       "        P2      P3  P4       P5            P6               P7  \\\n",
       "182  Urban  Female  19  English     12th pass         > 60,000   \n",
       "183  Urban    Male  21  English     12th pass         > 60,000   \n",
       "184  Urban    Male  31  Bengali  Postgraduate  20,000 - 40,000   \n",
       "185  Urban    Male  21  Bengali      Graduate         < 20,000   \n",
       "186  Urban    Male  21  Bengali     12th pass         < 20,000   \n",
       "\n",
       "                             P8         P9                P10  \\\n",
       "182  With other adult relatives   Graduate           Graduate   \n",
       "183  With other adult relatives   Graduate       Postgraduate   \n",
       "184  With other adult relatives   Graduate           Graduate   \n",
       "185                       Alone   Graduate  10th pass or less   \n",
       "186  With other adult relatives  12th pass           Graduate   \n",
       "\n",
       "                                             F1  ...                   K2  \\\n",
       "182          Someone else makes these decisions  ...          Rs. 2 lakhs   \n",
       "183          Someone else makes these decisions  ...  You will lose money   \n",
       "184        You make these decisions by yourself  ...             Not sure   \n",
       "185  You make these decisions with someone else  ...  You will lose money   \n",
       "186  You make these decisions with someone else  ...          Rs. 2 lakhs   \n",
       "\n",
       "                  K3          K4  \\\n",
       "182  Rs. 100 plus 3%  Rs. 30,000   \n",
       "183         Not sure  Rs. 30,000   \n",
       "184  Rs. 100 plus 3%    Not sure   \n",
       "185  Rs. 100 plus 3%  Rs. 30,000   \n",
       "186  Rs. 100 plus 3%  Rs. 30,000   \n",
       "\n",
       "                                                    K5  \\\n",
       "182  Add it to your savings for your new phone and ...   \n",
       "183  Use it for some other personal expense as this...   \n",
       "184  Add it to your savings for your new phone and ...   \n",
       "185  Add it to your savings for your new phone and ...   \n",
       "186  Add it to your savings for your new phone and ...   \n",
       "\n",
       "                                                    K6  \\\n",
       "182  Seeing the huge demand, you decide to buy ₹22,...   \n",
       "183                   You stick with the ₹25,000 model   \n",
       "184                   You stick with the ₹25,000 model   \n",
       "185  Seeing the huge demand, you decide to buy ₹22,...   \n",
       "186                   You stick with the ₹25,000 model   \n",
       "\n",
       "                                                    K7  \\\n",
       "182  You keep the remaining money with yourself and...   \n",
       "183  You keep the remaining money with yourself and...   \n",
       "184  You keep the remaining money with yourself and...   \n",
       "185  You keep the remaining money with yourself and...   \n",
       "186  You keep the remaining money with yourself and...   \n",
       "\n",
       "                                 K8           K9                K10  \\\n",
       "182  Multiple businesses/investment  No interest           Not sure   \n",
       "183  Multiple businesses/investment  No interest           Not sure   \n",
       "184                        Not sure     Not sure           Not sure   \n",
       "185  Multiple businesses/investment  No interest  More than Rs. 110   \n",
       "186  Multiple businesses/investment  No interest  More than Rs. 110   \n",
       "\n",
       "                              K11  \n",
       "182                      Not sure  \n",
       "183  Less than they can buy today  \n",
       "184                      Not sure  \n",
       "185  Less than they can buy today  \n",
       "186                      Not sure  \n",
       "\n",
       "[5 rows x 30 columns]"
      ]
     },
     "execution_count": 7,
     "metadata": {},
     "output_type": "execute_result"
    }
   ],
   "source": [
    "renamed_data.tail()"
   ]
  },
  {
   "cell_type": "markdown",
   "metadata": {},
   "source": [
    "### other stuff"
   ]
  },
  {
   "cell_type": "code",
   "execution_count": 5,
   "metadata": {},
   "outputs": [
    {
     "data": {
      "text/plain": [
       "Male           129\n",
       "Female          54\n",
       "Astrosexual      1\n",
       "Who Knows!       1\n",
       "Queer            1\n",
       "Name: Sex, dtype: int64"
      ]
     },
     "execution_count": 5,
     "metadata": {},
     "output_type": "execute_result"
    }
   ],
   "source": [
    "data['Sex'].value_counts()"
   ]
  },
  {
   "cell_type": "code",
   "execution_count": 13,
   "metadata": {},
   "outputs": [
    {
     "name": "stderr",
     "output_type": "stream",
     "text": [
      "C:\\Users\\Roudranil Das\\AppData\\Local\\Temp\\ipykernel_15920\\3650748148.py:1: UserWarning: Boolean Series key will be reindexed to match DataFrame index.\n",
      "  data[(data['Sex'] != 'Male')][(data['Sex'] != 'Female')]\n"
     ]
    },
    {
     "data": {
      "text/html": [
       "<div>\n",
       "<style scoped>\n",
       "    .dataframe tbody tr th:only-of-type {\n",
       "        vertical-align: middle;\n",
       "    }\n",
       "\n",
       "    .dataframe tbody tr th {\n",
       "        vertical-align: top;\n",
       "    }\n",
       "\n",
       "    .dataframe thead th {\n",
       "        text-align: right;\n",
       "    }\n",
       "</style>\n",
       "<table border=\"1\" class=\"dataframe\">\n",
       "  <thead>\n",
       "    <tr style=\"text-align: right;\">\n",
       "      <th></th>\n",
       "      <th>Where do you live? (name of village/town/city)</th>\n",
       "      <th>Do you live in a rural or urban area?</th>\n",
       "      <th>Sex</th>\n",
       "      <th>Age</th>\n",
       "      <th>Your monthly household income (in INR)</th>\n",
       "      <th>Who do you live with in your residence (i.e., where you currently reside)?</th>\n",
       "      <th>Your medium of schooling</th>\n",
       "      <th>Your highest educational qualification</th>\n",
       "      <th>Your father's highest educational qualification</th>\n",
       "      <th>Your mother's highest educational qualification</th>\n",
       "      <th>...</th>\n",
       "      <th>Suppose you buy a piece of land for  ₹5 lakhs. After 10 years, you sell this land for ₹7 lakhs. How much would your profit be after selling the land? (Assume you don't have to pay any kind of taxes)</th>\n",
       "      <th>You have borrowed ₹100 from a friend. Which would be the lower amount to pay back: ₹105 or ₹100 plus 3%?</th>\n",
       "      <th>Assume that the income tax rate for an annual income between ₹1 lakh and ₹2 lakhs is 5% and for an annual income between ₹2 lakhs and ₹4 lakhs, the income tax rate is 10%. If your annual income is ₹3 lakhs, your income tax would be:</th>\n",
       "      <th>You want to buy a phone worth ₹25,000 and you decide to save ₹5,000 each month. In your third month of savings period (which would be of 5 months), a relative gifts you ₹4,000 in form of cash. What would you most likely do with this money?</th>\n",
       "      <th>You have ₹200 to spend on lunch and you're hungry. You buy some food items worth ₹180 and you feel full again after eating. You are now left with ₹20 of your lunch budget. What are you most likely to do?</th>\n",
       "      <th>You are looking to buy new headphones online and you have 2 choices, out of which you need to choose one. The first set of headphones are priced at ₹700, while the other set is marked at ₹1,000 with a 30% discount. Both the sets are similar in terms of quality, performance, and durability.</th>\n",
       "      <th>You lend Rs. 25 to a friend and they return you Rs. 25 the next day. How much interest did they pay on this loan?</th>\n",
       "      <th>Say someone puts Rs. 100 into a tax free, no fee savings account with guaranteed interest is 2% per year. What will be the amount in the account after 5 years?</th>\n",
       "      <th>Suppose 5 brothers are given Rs. 1000 and asked to divide among themselves. However they have to wait for a year to get the money. If inflation stays at X%, then in 1 year will they be able to buy</th>\n",
       "      <th>Just when you were about to reach your target of saving ₹25,000 for your new phone, you hear about another new, different model worth ₹22,000 and see a huge number of people booking it, along with good recommendations from a lot of well known experts and analysts.</th>\n",
       "    </tr>\n",
       "  </thead>\n",
       "  <tbody>\n",
       "    <tr>\n",
       "      <th>62</th>\n",
       "      <td>Kolkata</td>\n",
       "      <td>Urban</td>\n",
       "      <td>Other</td>\n",
       "      <td>22</td>\n",
       "      <td>&gt; 60,000</td>\n",
       "      <td>With other adult relatives</td>\n",
       "      <td>English</td>\n",
       "      <td>12th pass</td>\n",
       "      <td>Graduate</td>\n",
       "      <td>Graduate</td>\n",
       "      <td>...</td>\n",
       "      <td>Less than Rs. 2 lakhs</td>\n",
       "      <td>Rs. 100 plus 3%</td>\n",
       "      <td>Rs. 30,000</td>\n",
       "      <td>Add it to your savings for your new phone and ...</td>\n",
       "      <td>You keep the remaining money with yourself and...</td>\n",
       "      <td>You buy the second set.</td>\n",
       "      <td>No interest</td>\n",
       "      <td>Exactly Rs. 110</td>\n",
       "      <td>Less than they can buy today</td>\n",
       "      <td>You stick with the ₹25,000 model</td>\n",
       "    </tr>\n",
       "    <tr>\n",
       "      <th>136</th>\n",
       "      <td>Bangalore</td>\n",
       "      <td>Urban</td>\n",
       "      <td>Other</td>\n",
       "      <td>18</td>\n",
       "      <td>&gt; 60,000</td>\n",
       "      <td>With children under the age of 18</td>\n",
       "      <td>English</td>\n",
       "      <td>Ph.D.</td>\n",
       "      <td>Ph.D.</td>\n",
       "      <td>Ph.D.</td>\n",
       "      <td>...</td>\n",
       "      <td>You will lose money</td>\n",
       "      <td>Rs. 100 plus 3%</td>\n",
       "      <td>Rs. 30,000</td>\n",
       "      <td>Use it for some other personal expense as this...</td>\n",
       "      <td>Buy some light snack or beverage worth ₹20 to ...</td>\n",
       "      <td>You buy the first set.</td>\n",
       "      <td>No interest</td>\n",
       "      <td>More than Rs. 110</td>\n",
       "      <td>More with their share of money than they can b...</td>\n",
       "      <td>You stick with the ₹25,000 model</td>\n",
       "    </tr>\n",
       "  </tbody>\n",
       "</table>\n",
       "<p>2 rows × 31 columns</p>\n",
       "</div>"
      ],
      "text/plain": [
       "    Where do you live? (name of village/town/city)  \\\n",
       "62                                         Kolkata   \n",
       "136                                     Bangalore    \n",
       "\n",
       "    Do you live in a rural or urban area?    Sex  Age  \\\n",
       "62                                  Urban  Other   22   \n",
       "136                                 Urban  Other   18   \n",
       "\n",
       "    Your monthly household income (in INR)  \\\n",
       "62                                > 60,000   \n",
       "136                               > 60,000   \n",
       "\n",
       "    Who do you live with in your residence (i.e., where you currently reside)?   \\\n",
       "62                          With other adult relatives                            \n",
       "136                  With children under the age of 18                            \n",
       "\n",
       "    Your medium of schooling Your highest educational qualification  \\\n",
       "62                   English                              12th pass   \n",
       "136                  English                                  Ph.D.   \n",
       "\n",
       "    Your father's highest educational qualification  \\\n",
       "62                                         Graduate   \n",
       "136                                           Ph.D.   \n",
       "\n",
       "    Your mother's highest educational qualification  ...  \\\n",
       "62                                         Graduate  ...   \n",
       "136                                           Ph.D.  ...   \n",
       "\n",
       "    Suppose you buy a piece of land for  ₹5 lakhs. After 10 years, you sell this land for ₹7 lakhs. How much would your profit be after selling the land? (Assume you don't have to pay any kind of taxes)  \\\n",
       "62                               Less than Rs. 2 lakhs                                                                                                                                                       \n",
       "136                                You will lose money                                                                                                                                                       \n",
       "\n",
       "    You have borrowed ₹100 from a friend. Which would be the lower amount to pay back: ₹105 or ₹100 plus 3%?  \\\n",
       "62                                     Rs. 100 plus 3%                                                         \n",
       "136                                    Rs. 100 plus 3%                                                         \n",
       "\n",
       "    Assume that the income tax rate for an annual income between ₹1 lakh and ₹2 lakhs is 5% and for an annual income between ₹2 lakhs and ₹4 lakhs, the income tax rate is 10%. If your annual income is ₹3 lakhs, your income tax would be:  \\\n",
       "62                                          Rs. 30,000                                                                                                                                                                                         \n",
       "136                                         Rs. 30,000                                                                                                                                                                                         \n",
       "\n",
       "    You want to buy a phone worth ₹25,000 and you decide to save ₹5,000 each month. In your third month of savings period (which would be of 5 months), a relative gifts you ₹4,000 in form of cash. What would you most likely do with this money?  \\\n",
       "62   Add it to your savings for your new phone and ...                                                                                                                                                                                                \n",
       "136  Use it for some other personal expense as this...                                                                                                                                                                                                \n",
       "\n",
       "    You have ₹200 to spend on lunch and you're hungry. You buy some food items worth ₹180 and you feel full again after eating. You are now left with ₹20 of your lunch budget. What are you most likely to do?  \\\n",
       "62   You keep the remaining money with yourself and...                                                                                                                                                            \n",
       "136  Buy some light snack or beverage worth ₹20 to ...                                                                                                                                                            \n",
       "\n",
       "    You are looking to buy new headphones online and you have 2 choices, out of which you need to choose one. The first set of headphones are priced at ₹700, while the other set is marked at ₹1,000 with a 30% discount. Both the sets are similar in terms of quality, performance, and durability.  \\\n",
       "62                             You buy the second set.                                                                                                                                                                                                                                                   \n",
       "136                             You buy the first set.                                                                                                                                                                                                                                                   \n",
       "\n",
       "    You lend Rs. 25 to a friend and they return you Rs. 25 the next day. How much interest did they pay on this loan?  \\\n",
       "62                                         No interest                                                                  \n",
       "136                                        No interest                                                                  \n",
       "\n",
       "    Say someone puts Rs. 100 into a tax free, no fee savings account with guaranteed interest is 2% per year. What will be the amount in the account after 5 years?  \\\n",
       "62                                     Exactly Rs. 110                                                                                                                \n",
       "136                                  More than Rs. 110                                                                                                                \n",
       "\n",
       "    Suppose 5 brothers are given Rs. 1000 and asked to divide among themselves. However they have to wait for a year to get the money. If inflation stays at X%, then in 1 year will they be able to buy  \\\n",
       "62                        Less than they can buy today                                                                                                                                                     \n",
       "136  More with their share of money than they can b...                                                                                                                                                     \n",
       "\n",
       "    Just when you were about to reach your target of saving ₹25,000 for your new phone, you hear about another new, different model worth ₹22,000 and see a huge number of people booking it, along with good recommendations from a lot of well known experts and analysts.  \n",
       "62                    You stick with the ₹25,000 model                                                                                                                                                                                                                        \n",
       "136                   You stick with the ₹25,000 model                                                                                                                                                                                                                        \n",
       "\n",
       "[2 rows x 31 columns]"
      ]
     },
     "execution_count": 13,
     "metadata": {},
     "output_type": "execute_result"
    }
   ],
   "source": [
    "data[(data['Sex'] != 'Male')][(data['Sex'] != 'Female')]"
   ]
  },
  {
   "cell_type": "code",
   "execution_count": 31,
   "metadata": {},
   "outputs": [],
   "source": [
    "# data.drop(index=[21, 129], inplace=True)"
   ]
  },
  {
   "cell_type": "code",
   "execution_count": 32,
   "metadata": {},
   "outputs": [],
   "source": [
    "# data.loc[62, 'Sex'] = data.loc[136, 'Sex'] = 'Other'"
   ]
  },
  {
   "cell_type": "code",
   "execution_count": 11,
   "metadata": {},
   "outputs": [
    {
     "data": {
      "text/plain": [
       "'Queer'"
      ]
     },
     "execution_count": 11,
     "metadata": {},
     "output_type": "execute_result"
    }
   ],
   "source": [
    "data.loc[136, 'Sex']"
   ]
  },
  {
   "cell_type": "code",
   "execution_count": 33,
   "metadata": {},
   "outputs": [],
   "source": [
    "# data['Where do you live? (name of village/town/city)'] = data['Where do you live? (name of village/town/city)'].apply(lambda x: x.strip().lower())"
   ]
  },
  {
   "cell_type": "code",
   "execution_count": 22,
   "metadata": {},
   "outputs": [
    {
     "name": "stdout",
     "output_type": "stream",
     "text": [
      "['kolkata' 'dakshineswar' 'asansol' 'chandannagar' 'barasat' 'nagpur'\n",
      " 'jalpaiguri' 'raipur' 'malda' 'chennai' 'delhi' 'mumbai' 'rangpo'\n",
      " 'jamshedpur' 'siliguri' 'purulia' 'golaghat' 'bhubaneswar' 'durgapur'\n",
      " 'kalimpong' 'egattur' 'bagdogra' 'mount abu' 'bhusawal' 'dhanbad'\n",
      " 'lucknow' 'santragachi' 'bongaigaon' 'jabalpur' 'gangtok' 'trivandrum'\n",
      " 'varanasi' 'malappuram' 'azamgarh' 'bangalore' 'india' 'bally, howrah'\n",
      " 'kanpur' 'bandel' 'hindmotor' 'halisahar' 'guwahati' 'barrackpore'\n",
      " 'alipurduar' 'santipur' 'domjur' 'sodepur' 'shyamnagar' 'chinsurah'\n",
      " 'town' 'diamond harbour' 'vadodara' 'baruipur' 'sansat' 'palashi'\n",
      " 'berhampur' 'mawa' 'mahestala, kolkata' 'bandel, hooghly'\n",
      " 'tanda, ambedkar nagar' 'coochbehar' 'berhampore'\n",
      " 'pittsburgh, pennsylvania, united states' 'serampore' 'sudarshan'\n",
      " 'bhadreswar' 'mankundu' 'rishra' 'new delhi' 'burdwan' 'midnapore'\n",
      " 'rampurhat' 'pandaveswar' 'kolkats' 'bolpur' 'kodalia' 'madhyamgram'\n",
      " 'bally' 'mohanpur' 'belgharia']\n"
     ]
    }
   ],
   "source": [
    "print(data['Where do you live? (name of village/town/city)'].unique())"
   ]
  },
  {
   "cell_type": "code",
   "execution_count": null,
   "metadata": {},
   "outputs": [],
   "source": []
  },
  {
   "cell_type": "code",
   "execution_count": 21,
   "metadata": {},
   "outputs": [
    {
     "data": {
      "text/plain": [
       "kolkata         False\n",
       "chennai         False\n",
       "mumbai          False\n",
       "asansol         False\n",
       "chandannagar    False\n",
       "                ...  \n",
       "guwahati         True\n",
       "barrackpore      True\n",
       "alipurduar       True\n",
       "santipur         True\n",
       "belgharia        True\n",
       "Name: Where do you live? (name of village/town/city), Length: 80, dtype: bool"
      ]
     },
     "execution_count": 21,
     "metadata": {},
     "output_type": "execute_result"
    }
   ],
   "source": [
    "data['Where do you live? (name of village/town/city)'].value_counts() == 1"
   ]
  },
  {
   "cell_type": "code",
   "execution_count": 27,
   "metadata": {},
   "outputs": [
    {
     "data": {
      "image/png": "[encoded data removed]",
      "text/plain": [
       "<Figure size 1152x1152 with 1 Axes>"
      ]
     },
     "metadata": {
      "needs_background": "light"
     },
     "output_type": "display_data"
    }
   ],
   "source": [
    "sns.countplot(data=data, x='Where do you live? (name of village/town/city)')\n",
    "plt.tick_params(rotation = 90)"
   ]
  },
  {
   "cell_type": "code",
   "execution_count": 44,
   "metadata": {},
   "outputs": [],
   "source": [
    "y = 'How do you keep track of your monthly expenses?'\n",
    "x = 'Age'\n",
    "\n",
    "# 18 - 21, 21 - 24, 24 - 27, 27 - 30, 30 - 33, 33+\n",
    "\n",
    "working_data['Age_group'] = pd.cut(working_data['Age'], bins=[18,21,24,27,30,33,36], include_lowest=True, right=False)"
   ]
  },
  {
   "cell_type": "code",
   "execution_count": 108,
   "metadata": {},
   "outputs": [
    {
     "data": {
      "text/html": [
       "<div>\n",
       "<style scoped>\n",
       "    .dataframe tbody tr th:only-of-type {\n",
       "        vertical-align: middle;\n",
       "    }\n",
       "\n",
       "    .dataframe tbody tr th {\n",
       "        vertical-align: top;\n",
       "    }\n",
       "\n",
       "    .dataframe thead th {\n",
       "        text-align: right;\n",
       "    }\n",
       "</style>\n",
       "<table border=\"1\" class=\"dataframe\">\n",
       "  <thead>\n",
       "    <tr style=\"text-align: right;\">\n",
       "      <th></th>\n",
       "      <th></th>\n",
       "      <th>Age</th>\n",
       "    </tr>\n",
       "    <tr>\n",
       "      <th>Age_group</th>\n",
       "      <th>Do you prepare a budget to keep track of necessary expenses and savings?</th>\n",
       "      <th></th>\n",
       "    </tr>\n",
       "  </thead>\n",
       "  <tbody>\n",
       "    <tr>\n",
       "      <th rowspan=\"3\" valign=\"top\">[18, 21)</th>\n",
       "      <th>No, I do not keep a written record of my expenses and savings</th>\n",
       "      <td>19.454545</td>\n",
       "    </tr>\n",
       "    <tr>\n",
       "      <th>Yes, I do so each month</th>\n",
       "      <td>19.250000</td>\n",
       "    </tr>\n",
       "    <tr>\n",
       "      <th>Yes, but only sometimes</th>\n",
       "      <td>19.166667</td>\n",
       "    </tr>\n",
       "    <tr>\n",
       "      <th rowspan=\"3\" valign=\"top\">[21, 24)</th>\n",
       "      <th>No, I do not keep a written record of my expenses and savings</th>\n",
       "      <td>21.470588</td>\n",
       "    </tr>\n",
       "    <tr>\n",
       "      <th>Yes, I do so each month</th>\n",
       "      <td>21.390244</td>\n",
       "    </tr>\n",
       "    <tr>\n",
       "      <th>Yes, but only sometimes</th>\n",
       "      <td>21.545455</td>\n",
       "    </tr>\n",
       "    <tr>\n",
       "      <th rowspan=\"3\" valign=\"top\">[24, 27)</th>\n",
       "      <th>No, I do not keep a written record of my expenses and savings</th>\n",
       "      <td>24.000000</td>\n",
       "    </tr>\n",
       "    <tr>\n",
       "      <th>Yes, I do so each month</th>\n",
       "      <td>24.200000</td>\n",
       "    </tr>\n",
       "    <tr>\n",
       "      <th>Yes, but only sometimes</th>\n",
       "      <td>24.000000</td>\n",
       "    </tr>\n",
       "    <tr>\n",
       "      <th rowspan=\"3\" valign=\"top\">[27, 30)</th>\n",
       "      <th>No, I do not keep a written record of my expenses and savings</th>\n",
       "      <td>27.000000</td>\n",
       "    </tr>\n",
       "    <tr>\n",
       "      <th>Yes, I do so each month</th>\n",
       "      <td>29.000000</td>\n",
       "    </tr>\n",
       "    <tr>\n",
       "      <th>Yes, but only sometimes</th>\n",
       "      <td>27.000000</td>\n",
       "    </tr>\n",
       "    <tr>\n",
       "      <th rowspan=\"3\" valign=\"top\">[30, 33)</th>\n",
       "      <th>No, I do not keep a written record of my expenses and savings</th>\n",
       "      <td>NaN</td>\n",
       "    </tr>\n",
       "    <tr>\n",
       "      <th>Yes, I do so each month</th>\n",
       "      <td>31.000000</td>\n",
       "    </tr>\n",
       "    <tr>\n",
       "      <th>Yes, but only sometimes</th>\n",
       "      <td>NaN</td>\n",
       "    </tr>\n",
       "    <tr>\n",
       "      <th rowspan=\"3\" valign=\"top\">[33, 36)</th>\n",
       "      <th>No, I do not keep a written record of my expenses and savings</th>\n",
       "      <td>35.000000</td>\n",
       "    </tr>\n",
       "    <tr>\n",
       "      <th>Yes, I do so each month</th>\n",
       "      <td>35.000000</td>\n",
       "    </tr>\n",
       "    <tr>\n",
       "      <th>Yes, but only sometimes</th>\n",
       "      <td>34.000000</td>\n",
       "    </tr>\n",
       "  </tbody>\n",
       "</table>\n",
       "</div>"
      ],
      "text/plain": [
       "                                                                    Age\n",
       "Age_group Do you prepare a budget to keep track of necess...           \n",
       "[18, 21)  No, I do not keep a written record of my expens...  19.454545\n",
       "          Yes, I do so each month                             19.250000\n",
       "          Yes, but only sometimes                             19.166667\n",
       "[21, 24)  No, I do not keep a written record of my expens...  21.470588\n",
       "          Yes, I do so each month                             21.390244\n",
       "          Yes, but only sometimes                             21.545455\n",
       "[24, 27)  No, I do not keep a written record of my expens...  24.000000\n",
       "          Yes, I do so each month                             24.200000\n",
       "          Yes, but only sometimes                             24.000000\n",
       "[27, 30)  No, I do not keep a written record of my expens...  27.000000\n",
       "          Yes, I do so each month                             29.000000\n",
       "          Yes, but only sometimes                             27.000000\n",
       "[30, 33)  No, I do not keep a written record of my expens...        NaN\n",
       "          Yes, I do so each month                             31.000000\n",
       "          Yes, but only sometimes                                   NaN\n",
       "[33, 36)  No, I do not keep a written record of my expens...  35.000000\n",
       "          Yes, I do so each month                             35.000000\n",
       "          Yes, but only sometimes                             34.000000"
      ]
     },
     "execution_count": 108,
     "metadata": {},
     "output_type": "execute_result"
    }
   ],
   "source": [
    "working_data.groupby(['Age_group', 'Do you prepare a budget to keep track of necessary expenses and savings?']).aggregate(np.mean)"
   ]
  },
  {
   "cell_type": "code",
   "execution_count": 46,
   "metadata": {},
   "outputs": [
    {
     "data": {
      "text/plain": [
       "[21, 24)    119\n",
       "[18, 21)     50\n",
       "[24, 27)      7\n",
       "[27, 30)      4\n",
       "[33, 36)      4\n",
       "[30, 33)      1\n",
       "Name: Age_group, dtype: int64"
      ]
     },
     "execution_count": 46,
     "metadata": {},
     "output_type": "execute_result"
    }
   ],
   "source": [
    "working_data['Age_group'].value_counts()"
   ]
  },
  {
   "cell_type": "code",
   "execution_count": 97,
   "metadata": {},
   "outputs": [],
   "source": [
    "agegrp_f2_pivot = pd.pivot_table(working_data, columns=['Age_group'], index='Do you prepare a budget to keep track of necessary expenses and savings?', aggfunc='count').iloc[:,:6]"
   ]
  },
  {
   "cell_type": "code",
   "execution_count": 98,
   "metadata": {},
   "outputs": [],
   "source": [
    "agegrp_f2_pivot.index = ['No budget', 'Yes budget sometimes', 'Yes budget always']\n",
    "agegrp_f2_pivot.columns = [\"[18, 21)\",\"[21, 24)\",\"[24, 27)\",\"[27, 30)\",\"[30, 33)\",\"[33, 36)\"]"
   ]
  },
  {
   "cell_type": "code",
   "execution_count": 103,
   "metadata": {},
   "outputs": [
    {
     "data": {
      "text/html": [
       "<div>\n",
       "<style scoped>\n",
       "    .dataframe tbody tr th:only-of-type {\n",
       "        vertical-align: middle;\n",
       "    }\n",
       "\n",
       "    .dataframe tbody tr th {\n",
       "        vertical-align: top;\n",
       "    }\n",
       "\n",
       "    .dataframe thead th {\n",
       "        text-align: right;\n",
       "    }\n",
       "</style>\n",
       "<table border=\"1\" class=\"dataframe\">\n",
       "  <thead>\n",
       "    <tr style=\"text-align: right;\">\n",
       "      <th></th>\n",
       "      <th>[18, 21)</th>\n",
       "      <th>[21, 24)</th>\n",
       "      <th>[24, 27)</th>\n",
       "      <th>[27, 30)</th>\n",
       "      <th>[30, 33)</th>\n",
       "      <th>[33, 36)</th>\n",
       "    </tr>\n",
       "  </thead>\n",
       "  <tbody>\n",
       "    <tr>\n",
       "      <th>No budget</th>\n",
       "      <td>22</td>\n",
       "      <td>34</td>\n",
       "      <td>1</td>\n",
       "      <td>2</td>\n",
       "      <td>0</td>\n",
       "      <td>1</td>\n",
       "    </tr>\n",
       "    <tr>\n",
       "      <th>Yes budget sometimes</th>\n",
       "      <td>16</td>\n",
       "      <td>41</td>\n",
       "      <td>5</td>\n",
       "      <td>1</td>\n",
       "      <td>1</td>\n",
       "      <td>2</td>\n",
       "    </tr>\n",
       "    <tr>\n",
       "      <th>Yes budget always</th>\n",
       "      <td>12</td>\n",
       "      <td>44</td>\n",
       "      <td>1</td>\n",
       "      <td>1</td>\n",
       "      <td>0</td>\n",
       "      <td>1</td>\n",
       "    </tr>\n",
       "  </tbody>\n",
       "</table>\n",
       "</div>"
      ],
      "text/plain": [
       "                      [18, 21)  [21, 24)  [24, 27)  [27, 30)  [30, 33)  \\\n",
       "No budget                   22        34         1         2         0   \n",
       "Yes budget sometimes        16        41         5         1         1   \n",
       "Yes budget always           12        44         1         1         0   \n",
       "\n",
       "                      [33, 36)  \n",
       "No budget                    1  \n",
       "Yes budget sometimes         2  \n",
       "Yes budget always            1  "
      ]
     },
     "execution_count": 103,
     "metadata": {},
     "output_type": "execute_result"
    }
   ],
   "source": [
    "agegrp_f2_pivot"
   ]
  },
  {
   "cell_type": "code",
   "execution_count": 100,
   "metadata": {},
   "outputs": [
    {
     "data": {
      "text/plain": [
       "<AxesSubplot:>"
      ]
     },
     "execution_count": 100,
     "metadata": {},
     "output_type": "execute_result"
    },
    {
     "data": {
      "image/png": "[encoded data removed]",
      "text/plain": [
       "<Figure size 720x432 with 1 Axes>"
      ]
     },
     "metadata": {
      "needs_background": "light"
     },
     "output_type": "display_data"
    }
   ],
   "source": [
    "plt.figure(figsize=(10, 6))\n",
    "sns.lineplot(data = agegrp_f2_pivot.T, markers=True)"
   ]
  },
  {
   "cell_type": "code",
   "execution_count": null,
   "metadata": {},
   "outputs": [],
   "source": []
  }
 ],
 "metadata": {
  "kernelspec": {
   "display_name": "Python 3.10.6 64-bit",
   "language": "python",
   "name": "python3"
  },
  "language_info": {
   "codemirror_mode": {
    "name": "ipython",
    "version": 3
   },
   "file_extension": ".py",
   "mimetype": "text/x-python",
   "name": "python",
   "nbconvert_exporter": "python",
   "pygments_lexer": "ipython3",
   "version": "3.10.6"
  },
  "orig_nbformat": 4,
  "vscode": {
   "interpreter": {
    "hash": "d25902f113cb4dbd517154651829d71a667e371374905448337c195d86b0b7cb"
   }
  }
 },
 "nbformat": 4,
 "nbformat_minor": 2
}
